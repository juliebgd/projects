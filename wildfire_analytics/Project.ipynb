{
  "nbformat": 4,
  "nbformat_minor": 0,
  "metadata": {
    "colab": {
      "name": "Project.ipynb",
      "provenance": [],
      "collapsed_sections": [
        "4HoqcBpEuJNa"
      ]
    },
    "kernelspec": {
      "display_name": "Python 3",
      "name": "python3"
    },
    "language_info": {
      "name": "python"
    }
  },
  "cells": [
    {
      "cell_type": "markdown",
      "metadata": {
        "id": "yS9fZrkv2urB"
      },
      "source": [
        "# Wildfire Data Analysis and Prediction"
      ]
    },
    {
      "cell_type": "markdown",
      "metadata": {
        "id": "4HoqcBpEuJNa"
      },
      "source": [
        "## Library and Data Imports"
      ]
    },
    {
      "cell_type": "code",
      "metadata": {
        "colab": {
          "base_uri": "https://localhost:8080/"
        },
        "id": "AQRDC25mHrap",
        "outputId": "07d12083-64ab-4878-f2e4-1737238f1cef"
      },
      "source": [
        "!pip install pandasql\n",
        "!pip install -U plotly\n",
        "!pip install geopandas"
      ],
      "execution_count": null,
      "outputs": [
        {
          "output_type": "stream",
          "text": [
            "Requirement already satisfied: pandasql in /usr/local/lib/python3.7/dist-packages (0.7.3)\n",
            "Requirement already satisfied: sqlalchemy in /usr/local/lib/python3.7/dist-packages (from pandasql) (1.4.7)\n",
            "Requirement already satisfied: pandas in /usr/local/lib/python3.7/dist-packages (from pandasql) (1.1.5)\n",
            "Requirement already satisfied: numpy in /usr/local/lib/python3.7/dist-packages (from pandasql) (1.19.5)\n",
            "Requirement already satisfied: importlib-metadata; python_version < \"3.8\" in /usr/local/lib/python3.7/dist-packages (from sqlalchemy->pandasql) (3.10.1)\n",
            "Requirement already satisfied: greenlet!=0.4.17; python_version >= \"3\" in /usr/local/lib/python3.7/dist-packages (from sqlalchemy->pandasql) (1.0.0)\n",
            "Requirement already satisfied: pytz>=2017.2 in /usr/local/lib/python3.7/dist-packages (from pandas->pandasql) (2018.9)\n",
            "Requirement already satisfied: python-dateutil>=2.7.3 in /usr/local/lib/python3.7/dist-packages (from pandas->pandasql) (2.8.1)\n",
            "Requirement already satisfied: zipp>=0.5 in /usr/local/lib/python3.7/dist-packages (from importlib-metadata; python_version < \"3.8\"->sqlalchemy->pandasql) (3.4.1)\n",
            "Requirement already satisfied: typing-extensions>=3.6.4; python_version < \"3.8\" in /usr/local/lib/python3.7/dist-packages (from importlib-metadata; python_version < \"3.8\"->sqlalchemy->pandasql) (3.7.4.3)\n",
            "Requirement already satisfied: six>=1.5 in /usr/local/lib/python3.7/dist-packages (from python-dateutil>=2.7.3->pandas->pandasql) (1.15.0)\n",
            "Requirement already up-to-date: plotly in /usr/local/lib/python3.7/dist-packages (4.14.3)\n",
            "Requirement already satisfied, skipping upgrade: retrying>=1.3.3 in /usr/local/lib/python3.7/dist-packages (from plotly) (1.3.3)\n",
            "Requirement already satisfied, skipping upgrade: six in /usr/local/lib/python3.7/dist-packages (from plotly) (1.15.0)\n",
            "Requirement already satisfied: geopandas in /usr/local/lib/python3.7/dist-packages (0.9.0)\n",
            "Requirement already satisfied: pandas>=0.24.0 in /usr/local/lib/python3.7/dist-packages (from geopandas) (1.1.5)\n",
            "Requirement already satisfied: shapely>=1.6 in /usr/local/lib/python3.7/dist-packages (from geopandas) (1.7.1)\n",
            "Requirement already satisfied: pyproj>=2.2.0 in /usr/local/lib/python3.7/dist-packages (from geopandas) (3.0.1)\n",
            "Requirement already satisfied: fiona>=1.8 in /usr/local/lib/python3.7/dist-packages (from geopandas) (1.8.19)\n",
            "Requirement already satisfied: python-dateutil>=2.7.3 in /usr/local/lib/python3.7/dist-packages (from pandas>=0.24.0->geopandas) (2.8.1)\n",
            "Requirement already satisfied: numpy>=1.15.4 in /usr/local/lib/python3.7/dist-packages (from pandas>=0.24.0->geopandas) (1.19.5)\n",
            "Requirement already satisfied: pytz>=2017.2 in /usr/local/lib/python3.7/dist-packages (from pandas>=0.24.0->geopandas) (2018.9)\n",
            "Requirement already satisfied: certifi in /usr/local/lib/python3.7/dist-packages (from pyproj>=2.2.0->geopandas) (2020.12.5)\n",
            "Requirement already satisfied: six>=1.7 in /usr/local/lib/python3.7/dist-packages (from fiona>=1.8->geopandas) (1.15.0)\n",
            "Requirement already satisfied: click<8,>=4.0 in /usr/local/lib/python3.7/dist-packages (from fiona>=1.8->geopandas) (7.1.2)\n",
            "Requirement already satisfied: click-plugins>=1.0 in /usr/local/lib/python3.7/dist-packages (from fiona>=1.8->geopandas) (1.1.1)\n",
            "Requirement already satisfied: munch in /usr/local/lib/python3.7/dist-packages (from fiona>=1.8->geopandas) (2.5.0)\n",
            "Requirement already satisfied: attrs>=17 in /usr/local/lib/python3.7/dist-packages (from fiona>=1.8->geopandas) (20.3.0)\n",
            "Requirement already satisfied: cligj>=0.5 in /usr/local/lib/python3.7/dist-packages (from fiona>=1.8->geopandas) (0.7.1)\n"
          ],
          "name": "stdout"
        }
      ]
    },
    {
      "cell_type": "code",
      "metadata": {
        "id": "CFqcN95faVbh"
      },
      "source": [
        "import pandas as pd\n",
        "import matplotlib.pyplot as plt\n",
        "import numpy as np\n",
        "import pandasql as ps\n",
        "from sklearn import tree, preprocessing\n",
        "from sklearn.linear_model import Ridge\n",
        "import sklearn.ensemble as ske\n",
        "from sklearn.model_selection import train_test_split\n",
        "import sqlite3\n",
        "import datetime as dt\n",
        "import itertools\n",
        "import requests\n",
        "import plotly.express as px\n",
        "import urllib\n",
        "from lxml import html\n",
        "from tqdm import tqdm\n",
        "\n",
        "import seaborn as sns\n",
        "sns.set_theme()\n",
        "sns.set_style(\"darkgrid\", {\"axes.facecolor\": \".9\"})\n",
        "sns.set_palette(\"flare\")\n",
        "palette = itertools.cycle(sns.color_palette())\n",
        "c1 = next(palette)\n",
        "c2 = next(palette)\n",
        "c3 = next(palette)\n",
        "c4 = next(palette)\n",
        "c5 = next(palette)\n",
        "c6 = next(palette)"
      ],
      "execution_count": null,
      "outputs": []
    },
    {
      "cell_type": "code",
      "metadata": {
        "colab": {
          "base_uri": "https://localhost:8080/"
        },
        "id": "ZJZSAkmXwkin",
        "outputId": "456cc0b8-2505-478f-ac56-9eba01375128"
      },
      "source": [
        "from google.colab import drive\n",
        "drive.mount('/content/drive')"
      ],
      "execution_count": null,
      "outputs": [
        {
          "output_type": "stream",
          "text": [
            "Drive already mounted at /content/drive; to attempt to forcibly remount, call drive.mount(\"/content/drive\", force_remount=True).\n"
          ],
          "name": "stdout"
        }
      ]
    },
    {
      "cell_type": "markdown",
      "metadata": {
        "id": "LEooZrHhCFn2"
      },
      "source": [
        "Connect to sqlite database and pull in relevent columns"
      ]
    },
    {
      "cell_type": "code",
      "metadata": {
        "id": "gPbBj8secprB"
      },
      "source": [
        "conn = sqlite3.connect(\"drive/Shareddrives/CIS545FinalProject/FPA_FOD_20170508.sqlite\")\n",
        "df_fires = pd.read_sql_query(\"SELECT FOD_ID, FIRE_CODE,FIRE_NAME,FIRE_YEAR,DISCOVERY_DATE,STAT_CAUSE_CODE,STAT_CAUSE_DESCR,CONT_DATE,FIRE_SIZE,FIRE_SIZE_CLASS,LATITUDE,LONGITUDE,OWNER_CODE,OWNER_DESCR,STATE,COUNTY,FIPS_CODE,FIPS_NAME,CONT_TIME,DISCOVERY_TIME FROM 'Fires'\", conn)"
      ],
      "execution_count": null,
      "outputs": []
    },
    {
      "cell_type": "markdown",
      "metadata": {
        "id": "0jEzoMfMCWSh"
      },
      "source": [
        "Let's take a glance at our data"
      ]
    },
    {
      "cell_type": "code",
      "metadata": {
        "colab": {
          "base_uri": "https://localhost:8080/",
          "height": 232
        },
        "id": "vWQTMgKt64L7",
        "outputId": "a3d88852-9f1b-49b9-a049-0ae04dc882c6"
      },
      "source": [
        "df_fires.head()"
      ],
      "execution_count": null,
      "outputs": [
        {
          "output_type": "execute_result",
          "data": {
            "text/html": [
              "<div>\n",
              "<style scoped>\n",
              "    .dataframe tbody tr th:only-of-type {\n",
              "        vertical-align: middle;\n",
              "    }\n",
              "\n",
              "    .dataframe tbody tr th {\n",
              "        vertical-align: top;\n",
              "    }\n",
              "\n",
              "    .dataframe thead th {\n",
              "        text-align: right;\n",
              "    }\n",
              "</style>\n",
              "<table border=\"1\" class=\"dataframe\">\n",
              "  <thead>\n",
              "    <tr style=\"text-align: right;\">\n",
              "      <th></th>\n",
              "      <th>FOD_ID</th>\n",
              "      <th>FIRE_CODE</th>\n",
              "      <th>FIRE_NAME</th>\n",
              "      <th>FIRE_YEAR</th>\n",
              "      <th>DISCOVERY_DATE</th>\n",
              "      <th>STAT_CAUSE_CODE</th>\n",
              "      <th>STAT_CAUSE_DESCR</th>\n",
              "      <th>CONT_DATE</th>\n",
              "      <th>FIRE_SIZE</th>\n",
              "      <th>FIRE_SIZE_CLASS</th>\n",
              "      <th>LATITUDE</th>\n",
              "      <th>LONGITUDE</th>\n",
              "      <th>OWNER_CODE</th>\n",
              "      <th>OWNER_DESCR</th>\n",
              "      <th>STATE</th>\n",
              "      <th>COUNTY</th>\n",
              "      <th>FIPS_CODE</th>\n",
              "      <th>FIPS_NAME</th>\n",
              "      <th>CONT_TIME</th>\n",
              "      <th>DISCOVERY_TIME</th>\n",
              "    </tr>\n",
              "  </thead>\n",
              "  <tbody>\n",
              "    <tr>\n",
              "      <th>0</th>\n",
              "      <td>1</td>\n",
              "      <td>BJ8K</td>\n",
              "      <td>FOUNTAIN</td>\n",
              "      <td>2005</td>\n",
              "      <td>2453403.5</td>\n",
              "      <td>9.0</td>\n",
              "      <td>Miscellaneous</td>\n",
              "      <td>2453403.5</td>\n",
              "      <td>0.10</td>\n",
              "      <td>A</td>\n",
              "      <td>40.036944</td>\n",
              "      <td>-121.005833</td>\n",
              "      <td>5.0</td>\n",
              "      <td>USFS</td>\n",
              "      <td>CA</td>\n",
              "      <td>63</td>\n",
              "      <td>063</td>\n",
              "      <td>Plumas</td>\n",
              "      <td>1730</td>\n",
              "      <td>1300</td>\n",
              "    </tr>\n",
              "    <tr>\n",
              "      <th>1</th>\n",
              "      <td>2</td>\n",
              "      <td>AAC0</td>\n",
              "      <td>PIGEON</td>\n",
              "      <td>2004</td>\n",
              "      <td>2453137.5</td>\n",
              "      <td>1.0</td>\n",
              "      <td>Lightning</td>\n",
              "      <td>2453137.5</td>\n",
              "      <td>0.25</td>\n",
              "      <td>A</td>\n",
              "      <td>38.933056</td>\n",
              "      <td>-120.404444</td>\n",
              "      <td>5.0</td>\n",
              "      <td>USFS</td>\n",
              "      <td>CA</td>\n",
              "      <td>61</td>\n",
              "      <td>061</td>\n",
              "      <td>Placer</td>\n",
              "      <td>1530</td>\n",
              "      <td>0845</td>\n",
              "    </tr>\n",
              "    <tr>\n",
              "      <th>2</th>\n",
              "      <td>3</td>\n",
              "      <td>A32W</td>\n",
              "      <td>SLACK</td>\n",
              "      <td>2004</td>\n",
              "      <td>2453156.5</td>\n",
              "      <td>5.0</td>\n",
              "      <td>Debris Burning</td>\n",
              "      <td>2453156.5</td>\n",
              "      <td>0.10</td>\n",
              "      <td>A</td>\n",
              "      <td>38.984167</td>\n",
              "      <td>-120.735556</td>\n",
              "      <td>13.0</td>\n",
              "      <td>STATE OR PRIVATE</td>\n",
              "      <td>CA</td>\n",
              "      <td>17</td>\n",
              "      <td>017</td>\n",
              "      <td>El Dorado</td>\n",
              "      <td>2024</td>\n",
              "      <td>1921</td>\n",
              "    </tr>\n",
              "    <tr>\n",
              "      <th>3</th>\n",
              "      <td>4</td>\n",
              "      <td>None</td>\n",
              "      <td>DEER</td>\n",
              "      <td>2004</td>\n",
              "      <td>2453184.5</td>\n",
              "      <td>1.0</td>\n",
              "      <td>Lightning</td>\n",
              "      <td>2453189.5</td>\n",
              "      <td>0.10</td>\n",
              "      <td>A</td>\n",
              "      <td>38.559167</td>\n",
              "      <td>-119.913333</td>\n",
              "      <td>5.0</td>\n",
              "      <td>USFS</td>\n",
              "      <td>CA</td>\n",
              "      <td>3</td>\n",
              "      <td>003</td>\n",
              "      <td>Alpine</td>\n",
              "      <td>1400</td>\n",
              "      <td>1600</td>\n",
              "    </tr>\n",
              "    <tr>\n",
              "      <th>4</th>\n",
              "      <td>5</td>\n",
              "      <td>None</td>\n",
              "      <td>STEVENOT</td>\n",
              "      <td>2004</td>\n",
              "      <td>2453184.5</td>\n",
              "      <td>1.0</td>\n",
              "      <td>Lightning</td>\n",
              "      <td>2453189.5</td>\n",
              "      <td>0.10</td>\n",
              "      <td>A</td>\n",
              "      <td>38.559167</td>\n",
              "      <td>-119.933056</td>\n",
              "      <td>5.0</td>\n",
              "      <td>USFS</td>\n",
              "      <td>CA</td>\n",
              "      <td>3</td>\n",
              "      <td>003</td>\n",
              "      <td>Alpine</td>\n",
              "      <td>1200</td>\n",
              "      <td>1600</td>\n",
              "    </tr>\n",
              "  </tbody>\n",
              "</table>\n",
              "</div>"
            ],
            "text/plain": [
              "   FOD_ID FIRE_CODE FIRE_NAME  ...  FIPS_NAME  CONT_TIME  DISCOVERY_TIME\n",
              "0       1      BJ8K  FOUNTAIN  ...     Plumas       1730            1300\n",
              "1       2      AAC0    PIGEON  ...     Placer       1530            0845\n",
              "2       3      A32W     SLACK  ...  El Dorado       2024            1921\n",
              "3       4      None      DEER  ...     Alpine       1400            1600\n",
              "4       5      None  STEVENOT  ...     Alpine       1200            1600\n",
              "\n",
              "[5 rows x 20 columns]"
            ]
          },
          "metadata": {
            "tags": []
          },
          "execution_count": 5
        }
      ]
    },
    {
      "cell_type": "markdown",
      "metadata": {
        "id": "Sz8sK-cft_wZ"
      },
      "source": [
        "## Exploratory Data Analysis"
      ]
    },
    {
      "cell_type": "markdown",
      "metadata": {
        "id": "FA4AFfxe-qPU"
      },
      "source": [
        "We need to change our date format to make it more readable"
      ]
    },
    {
      "cell_type": "code",
      "metadata": {
        "id": "Lxocqyfw7WVd"
      },
      "source": [
        "df_fires['DISCOVERED_DATE'] = pd.to_datetime(df_fires['DISCOVERY_DATE'] - pd.Timestamp(0).to_julian_date(), unit='D')\n",
        "df_fires['CONTAINED_DATE'] = pd.to_datetime(df_fires['CONT_DATE'] - pd.Timestamp(0).to_julian_date(), unit='D')\n",
        "\n",
        "df_fires['DISCOVERED_MONTH'] = df_fires['DISCOVERED_DATE'].dt.month\n",
        "df_fires['DISCOVERED_DAY'] = df_fires['DISCOVERED_DATE'].apply(lambda x: x.timetuple().tm_yday)\n"
      ],
      "execution_count": null,
      "outputs": []
    },
    {
      "cell_type": "markdown",
      "metadata": {
        "id": "lX3Og7j_1KFB"
      },
      "source": [
        "### Fires over Time"
      ]
    },
    {
      "cell_type": "markdown",
      "metadata": {
        "id": "2oANBctbClM9"
      },
      "source": [
        "Annual"
      ]
    },
    {
      "cell_type": "code",
      "metadata": {
        "id": "b_r1Y_6w2Wvf",
        "colab": {
          "base_uri": "https://localhost:8080/",
          "height": 284
        },
        "outputId": "9c94854e-d9b7-4b0f-a91a-273e121d1260"
      },
      "source": [
        "# df_fires_year = ps.sqldf(\"SELECT FIRE_YEAR, COUNT(FOD_ID) as COUNT FROM df_fires GROUP BY FIRE_YEAR DESC\")\n",
        "# very slow to use pandas sql^, going to just use pandas for now\n",
        "\n",
        "df_fires_year = df_fires[['FOD_ID', 'FIRE_YEAR']].groupby(by='FIRE_YEAR').count()\n",
        "df_fires_year['FOD_ID'] = df_fires_year['FOD_ID']/1000\n",
        "\n",
        "sns.set_style(\"ticks\", {\"xtick.major.size\":8, \"ytick.major.size\":8})\n",
        "plt.bar(x = df_fires_year.index, height = df_fires_year['FOD_ID'])\n",
        "plt.ylabel('Number of Wildfires (thousands)')\n",
        "plt.title('Wildfires by Year')\n",
        "\n",
        "# fit a trendline to the data\n",
        "lr = Ridge()\n",
        "lr.fit(df_fires_year.reset_index()[['FIRE_YEAR']], df_fires_year['FOD_ID'])\n",
        "plt.plot(df_fires_year.index, lr.coef_*df_fires_year.index+lr.intercept_, color=c6)\n",
        "plt.show()"
      ],
      "execution_count": null,
      "outputs": [
        {
          "output_type": "display_data",
          "data": {
            "image/png": "[encoded data removed]",
            "text/plain": [
              "<Figure size 432x288 with 1 Axes>"
            ]
          },
          "metadata": {
            "tags": []
          }
        }
      ]
    },
    {
      "cell_type": "markdown",
      "metadata": {
        "id": "MScoY5w1CoSo"
      },
      "source": [
        "Monthly"
      ]
    },
    {
      "cell_type": "code",
      "metadata": {
        "id": "5wclosyZJLM4",
        "colab": {
          "base_uri": "https://localhost:8080/",
          "height": 301
        },
        "outputId": "2312b3f0-a3c3-4092-b7e6-0cbcbe5facb3"
      },
      "source": [
        "df_fires['DISCOVERED_DATE'] = pd.to_datetime(df_fires['DISCOVERY_DATE'] - pd.Timestamp(0).to_julian_date(), unit='D')\n",
        "df_fires['CONTAINED_DATE'] = pd.to_datetime(df_fires['CONT_DATE'] - pd.Timestamp(0).to_julian_date(), unit='D')\n",
        "\n",
        "# df_fires['DISCOVERED_MONTH'] = df_fires['DISCOVERED_DATE'].dt.month\n",
        "\n",
        "df_fires_month = df_fires[['FOD_ID', 'DISCOVERED_MONTH']].groupby(by='DISCOVERED_MONTH').count()\n",
        "\n",
        "sns.set_style(\"ticks\", {\"xtick.major.size\":8, \"ytick.major.size\":8})\n",
        "plt.bar(x = df_fires_month.index, height = df_fires_month['FOD_ID']/1000)\n",
        "plt.ylabel('Number of Wildfires (thousands)')\n",
        "plt.xlabel('Month no.')\n",
        "plt.title('Wildfires by Month')\n",
        "plt.show()"
      ],
      "execution_count": null,
      "outputs": [
        {
          "output_type": "display_data",
          "data": {
            "image/png": "[encoded data removed]",
            "text/plain": [
              "<Figure size 432x288 with 1 Axes>"
            ]
          },
          "metadata": {
            "tags": []
          }
        }
      ]
    },
    {
      "cell_type": "markdown",
      "metadata": {
        "id": "Gr2Zv-QqCuVm"
      },
      "source": [
        "Day of year"
      ]
    },
    {
      "cell_type": "code",
      "metadata": {
        "id": "fnlbiqkaYUfZ",
        "colab": {
          "base_uri": "https://localhost:8080/",
          "height": 301
        },
        "outputId": "f0f470b1-4cc6-452c-b05c-e8f3eb30038f"
      },
      "source": [
        "df_fires_day = df_fires[['FOD_ID', 'DISCOVERED_DAY']].groupby(by='DISCOVERED_DAY').count()\n",
        "\n",
        "sns.set_style(\"ticks\", {\"xtick.major.size\":8, \"ytick.major.size\":8})\n",
        "sns.lineplot(x = df_fires_day.index, y = df_fires_day['FOD_ID'])\n",
        "plt.ylabel('Number of Wildfires')\n",
        "plt.xlabel('Day no.')\n",
        "plt.title('Wildfires by Day of Year')\n",
        "plt.show()"
      ],
      "execution_count": null,
      "outputs": [
        {
          "output_type": "display_data",
          "data": {
            "image/png": "[encoded data removed]",
            "text/plain": [
              "<Figure size 432x288 with 1 Axes>"
            ]
          },
          "metadata": {
            "tags": []
          }
        }
      ]
    },
    {
      "cell_type": "code",
      "metadata": {
        "id": "hpYnGdI3b7fM",
        "colab": {
          "base_uri": "https://localhost:8080/",
          "height": 225
        },
        "outputId": "7c99e6ea-d4c5-457e-e133-1faa9d7f2b5d"
      },
      "source": [
        "df_fires_day.rename(columns={'FOD_ID' : 'COUNT'}).sort_values(by='COUNT', ascending=False).head()"
      ],
      "execution_count": null,
      "outputs": [
        {
          "output_type": "execute_result",
          "data": {
            "text/html": [
              "<div>\n",
              "<style scoped>\n",
              "    .dataframe tbody tr th:only-of-type {\n",
              "        vertical-align: middle;\n",
              "    }\n",
              "\n",
              "    .dataframe tbody tr th {\n",
              "        vertical-align: top;\n",
              "    }\n",
              "\n",
              "    .dataframe thead th {\n",
              "        text-align: right;\n",
              "    }\n",
              "</style>\n",
              "<table border=\"1\" class=\"dataframe\">\n",
              "  <thead>\n",
              "    <tr style=\"text-align: right;\">\n",
              "      <th></th>\n",
              "      <th>COUNT</th>\n",
              "    </tr>\n",
              "    <tr>\n",
              "      <th>DISCOVERED_DAY</th>\n",
              "      <th></th>\n",
              "    </tr>\n",
              "  </thead>\n",
              "  <tbody>\n",
              "    <tr>\n",
              "      <th>185</th>\n",
              "      <td>12875</td>\n",
              "    </tr>\n",
              "    <tr>\n",
              "      <th>186</th>\n",
              "      <td>11535</td>\n",
              "    </tr>\n",
              "    <tr>\n",
              "      <th>101</th>\n",
              "      <td>9261</td>\n",
              "    </tr>\n",
              "    <tr>\n",
              "      <th>67</th>\n",
              "      <td>9260</td>\n",
              "    </tr>\n",
              "    <tr>\n",
              "      <th>108</th>\n",
              "      <td>9256</td>\n",
              "    </tr>\n",
              "  </tbody>\n",
              "</table>\n",
              "</div>"
            ],
            "text/plain": [
              "                COUNT\n",
              "DISCOVERED_DAY       \n",
              "185             12875\n",
              "186             11535\n",
              "101              9261\n",
              "67               9260\n",
              "108              9256"
            ]
          },
          "metadata": {
            "tags": []
          },
          "execution_count": 10
        }
      ]
    },
    {
      "cell_type": "code",
      "metadata": {
        "id": "rBpL4uPoYAFt"
      },
      "source": [
        ""
      ],
      "execution_count": null,
      "outputs": []
    },
    {
      "cell_type": "markdown",
      "metadata": {
        "id": "G1gZEvbdq1mn"
      },
      "source": [
        "We can see that a spike in fires happens on the Fourth of July"
      ]
    },
    {
      "cell_type": "markdown",
      "metadata": {
        "id": "BsGjaSBr2Xks"
      },
      "source": [
        "### Fires by State\n",
        "Which states have had the highest count of fires during 1992-2015?"
      ]
    },
    {
      "cell_type": "code",
      "metadata": {
        "id": "oJ6azR0z2heU",
        "colab": {
          "base_uri": "https://localhost:8080/",
          "height": 542
        },
        "outputId": "f71f1cb8-a1ac-4c38-83fc-70ad285aff93"
      },
      "source": [
        "df_fires_states = df_fires[['FOD_ID', 'STATE']].groupby(by=\"STATE\").count()\n",
        "\n",
        "fig = px.choropleth(df_fires_states.reset_index(), locationmode = \"USA-states\", locations='STATE', color='FOD_ID',\n",
        "                           color_continuous_scale=\"Viridis\",\n",
        "                           range_color=(0, 190000),\n",
        "                           scope=\"usa\",\n",
        "                           labels={'FOD_ID':'Number of Wildfires'}\n",
        "                          )\n",
        "fig.update_layout(margin={\"r\":0,\"t\":0,\"l\":0,\"b\":0})\n",
        "fig.show()"
      ],
      "execution_count": null,
      "outputs": [
        {
          "output_type": "display_data",
          "data": {
            "text/html": [
              "<html>\n",
              "<head><meta charset=\"utf-8\" /></head>\n",
              "<body>\n",
              "    <div>            <script src=\"https://cdnjs.cloudflare.com/ajax/libs/mathjax/2.7.5/MathJax.js?config=TeX-AMS-MML_SVG\"></script><script type=\"text/javascript\">if (window.MathJax) {MathJax.Hub.Config({SVG: {font: \"STIX-Web\"}});}</script>                <script type=\"text/javascript\">window.PlotlyConfig = {MathJaxConfig: 'local'};</script>\n",
              "        <script src=\"https://cdn.plot.ly/plotly-latest.min.js\"></script>                <div id=\"e8927354-eb98-4f87-8bc1-6f4b41502dd5\" class=\"plotly-graph-div\" style=\"height:525px; width:100%;\"></div>            <script type=\"text/javascript\">                                    window.PLOTLYENV=window.PLOTLYENV || {};                                    if (document.getElementById(\"e8927354-eb98-4f87-8bc1-6f4b41502dd5\")) {                    Plotly.newPlot(                        \"e8927354-eb98-4f87-8bc1-6f4b41502dd5\",                        [{\"coloraxis\": \"coloraxis\", \"geo\": \"geo\", \"hovertemplate\": \"STATE=%{location}<br>Number of Wildfires=%{z}<extra></extra>\", \"locationmode\": \"USA-states\", \"locations\": [\"AK\", \"AL\", \"AR\", \"AZ\", \"CA\", \"CO\", \"CT\", \"DC\", \"DE\", \"FL\", \"GA\", \"HI\", \"IA\", \"ID\", \"IL\", \"IN\", \"KS\", \"KY\", \"LA\", \"MA\", \"MD\", \"ME\", \"MI\", \"MN\", \"MO\", \"MS\", \"MT\", \"NC\", \"ND\", \"NE\", \"NH\", \"NJ\", \"NM\", \"NV\", \"NY\", \"OH\", \"OK\", \"OR\", \"PA\", \"PR\", \"RI\", \"SC\", \"SD\", \"TN\", \"TX\", \"UT\", \"VA\", \"VT\", \"WA\", \"WI\", \"WV\", \"WY\"], \"name\": \"\", \"type\": \"choropleth\", \"z\": [12843, 66570, 31663, 71586, 189550, 34157, 4976, 66, 171, 90261, 168867, 9895, 4134, 36698, 2327, 2098, 7673, 27089, 30013, 2626, 3622, 13150, 10502, 44769, 17953, 79230, 40767, 111277, 15201, 7973, 2452, 25949, 37478, 16956, 80870, 3479, 43239, 61088, 8712, 22081, 480, 81315, 30963, 31154, 142021, 30725, 21833, 456, 33513, 31861, 21967, 14166]}],                        {\"coloraxis\": {\"cmax\": 190000, \"cmin\": 0, \"colorbar\": {\"title\": {\"text\": \"Number of Wildfires\"}}, \"colorscale\": [[0.0, \"#440154\"], [0.1111111111111111, \"#482878\"], [0.2222222222222222, \"#3e4989\"], [0.3333333333333333, \"#31688e\"], [0.4444444444444444, \"#26828e\"], [0.5555555555555556, \"#1f9e89\"], [0.6666666666666666, \"#35b779\"], [0.7777777777777778, \"#6ece58\"], [0.8888888888888888, \"#b5de2b\"], [1.0, \"#fde725\"]]}, \"geo\": {\"center\": {}, \"domain\": {\"x\": [0.0, 1.0], \"y\": [0.0, 1.0]}, \"scope\": \"usa\"}, \"legend\": {\"tracegroupgap\": 0}, \"margin\": {\"b\": 0, \"l\": 0, \"r\": 0, \"t\": 0}, \"template\": {\"data\": {\"bar\": [{\"error_x\": {\"color\": \"#2a3f5f\"}, \"error_y\": {\"color\": \"#2a3f5f\"}, \"marker\": {\"line\": {\"color\": \"#E5ECF6\", \"width\": 0.5}}, \"type\": \"bar\"}], \"barpolar\": [{\"marker\": {\"line\": {\"color\": \"#E5ECF6\", \"width\": 0.5}}, \"type\": \"barpolar\"}], \"carpet\": [{\"aaxis\": {\"endlinecolor\": \"#2a3f5f\", \"gridcolor\": \"white\", \"linecolor\": \"white\", \"minorgridcolor\": \"white\", \"startlinecolor\": \"#2a3f5f\"}, \"baxis\": {\"endlinecolor\": \"#2a3f5f\", \"gridcolor\": \"white\", \"linecolor\": \"white\", \"minorgridcolor\": \"white\", \"startlinecolor\": \"#2a3f5f\"}, \"type\": \"carpet\"}], \"choropleth\": [{\"colorbar\": {\"outlinewidth\": 0, \"ticks\": \"\"}, \"type\": \"choropleth\"}], \"contour\": [{\"colorbar\": {\"outlinewidth\": 0, \"ticks\": \"\"}, \"colorscale\": [[0.0, \"#0d0887\"], [0.1111111111111111, \"#46039f\"], [0.2222222222222222, \"#7201a8\"], [0.3333333333333333, \"#9c179e\"], [0.4444444444444444, \"#bd3786\"], [0.5555555555555556, \"#d8576b\"], [0.6666666666666666, \"#ed7953\"], [0.7777777777777778, \"#fb9f3a\"], [0.8888888888888888, \"#fdca26\"], [1.0, \"#f0f921\"]], \"type\": \"contour\"}], \"contourcarpet\": [{\"colorbar\": {\"outlinewidth\": 0, \"ticks\": \"\"}, \"type\": \"contourcarpet\"}], \"heatmap\": [{\"colorbar\": {\"outlinewidth\": 0, \"ticks\": \"\"}, \"colorscale\": [[0.0, \"#0d0887\"], [0.1111111111111111, \"#46039f\"], [0.2222222222222222, \"#7201a8\"], [0.3333333333333333, \"#9c179e\"], [0.4444444444444444, \"#bd3786\"], [0.5555555555555556, \"#d8576b\"], [0.6666666666666666, \"#ed7953\"], [0.7777777777777778, \"#fb9f3a\"], [0.8888888888888888, \"#fdca26\"], [1.0, \"#f0f921\"]], \"type\": \"heatmap\"}], \"heatmapgl\": [{\"colorbar\": {\"outlinewidth\": 0, \"ticks\": \"\"}, \"colorscale\": [[0.0, \"#0d0887\"], [0.1111111111111111, \"#46039f\"], [0.2222222222222222, \"#7201a8\"], [0.3333333333333333, \"#9c179e\"], [0.4444444444444444, \"#bd3786\"], [0.5555555555555556, \"#d8576b\"], [0.6666666666666666, \"#ed7953\"], [0.7777777777777778, \"#fb9f3a\"], [0.8888888888888888, \"#fdca26\"], [1.0, \"#f0f921\"]], \"type\": \"heatmapgl\"}], \"histogram\": [{\"marker\": {\"colorbar\": {\"outlinewidth\": 0, \"ticks\": \"\"}}, \"type\": \"histogram\"}], \"histogram2d\": [{\"colorbar\": {\"outlinewidth\": 0, \"ticks\": \"\"}, \"colorscale\": [[0.0, \"#0d0887\"], [0.1111111111111111, \"#46039f\"], [0.2222222222222222, \"#7201a8\"], [0.3333333333333333, \"#9c179e\"], [0.4444444444444444, \"#bd3786\"], [0.5555555555555556, \"#d8576b\"], [0.6666666666666666, \"#ed7953\"], [0.7777777777777778, \"#fb9f3a\"], [0.8888888888888888, \"#fdca26\"], [1.0, \"#f0f921\"]], \"type\": \"histogram2d\"}], \"histogram2dcontour\": [{\"colorbar\": {\"outlinewidth\": 0, \"ticks\": \"\"}, \"colorscale\": [[0.0, \"#0d0887\"], [0.1111111111111111, \"#46039f\"], [0.2222222222222222, \"#7201a8\"], [0.3333333333333333, \"#9c179e\"], [0.4444444444444444, \"#bd3786\"], [0.5555555555555556, \"#d8576b\"], [0.6666666666666666, \"#ed7953\"], [0.7777777777777778, \"#fb9f3a\"], [0.8888888888888888, \"#fdca26\"], [1.0, \"#f0f921\"]], \"type\": \"histogram2dcontour\"}], \"mesh3d\": [{\"colorbar\": {\"outlinewidth\": 0, \"ticks\": \"\"}, \"type\": \"mesh3d\"}], \"parcoords\": [{\"line\": {\"colorbar\": {\"outlinewidth\": 0, \"ticks\": \"\"}}, \"type\": \"parcoords\"}], \"pie\": [{\"automargin\": true, \"type\": \"pie\"}], \"scatter\": [{\"marker\": {\"colorbar\": {\"outlinewidth\": 0, \"ticks\": \"\"}}, \"type\": \"scatter\"}], \"scatter3d\": [{\"line\": {\"colorbar\": {\"outlinewidth\": 0, \"ticks\": \"\"}}, \"marker\": {\"colorbar\": {\"outlinewidth\": 0, \"ticks\": \"\"}}, \"type\": \"scatter3d\"}], \"scattercarpet\": [{\"marker\": {\"colorbar\": {\"outlinewidth\": 0, \"ticks\": \"\"}}, \"type\": \"scattercarpet\"}], \"scattergeo\": [{\"marker\": {\"colorbar\": {\"outlinewidth\": 0, \"ticks\": \"\"}}, \"type\": \"scattergeo\"}], \"scattergl\": [{\"marker\": {\"colorbar\": {\"outlinewidth\": 0, \"ticks\": \"\"}}, \"type\": \"scattergl\"}], \"scattermapbox\": [{\"marker\": {\"colorbar\": {\"outlinewidth\": 0, \"ticks\": \"\"}}, \"type\": \"scattermapbox\"}], \"scatterpolar\": [{\"marker\": {\"colorbar\": {\"outlinewidth\": 0, \"ticks\": \"\"}}, \"type\": \"scatterpolar\"}], \"scatterpolargl\": [{\"marker\": {\"colorbar\": {\"outlinewidth\": 0, \"ticks\": \"\"}}, \"type\": \"scatterpolargl\"}], \"scatterternary\": [{\"marker\": {\"colorbar\": {\"outlinewidth\": 0, \"ticks\": \"\"}}, \"type\": \"scatterternary\"}], \"surface\": [{\"colorbar\": {\"outlinewidth\": 0, \"ticks\": \"\"}, \"colorscale\": [[0.0, \"#0d0887\"], [0.1111111111111111, \"#46039f\"], [0.2222222222222222, \"#7201a8\"], [0.3333333333333333, \"#9c179e\"], [0.4444444444444444, \"#bd3786\"], [0.5555555555555556, \"#d8576b\"], [0.6666666666666666, \"#ed7953\"], [0.7777777777777778, \"#fb9f3a\"], [0.8888888888888888, \"#fdca26\"], [1.0, \"#f0f921\"]], \"type\": \"surface\"}], \"table\": [{\"cells\": {\"fill\": {\"color\": \"#EBF0F8\"}, \"line\": {\"color\": \"white\"}}, \"header\": {\"fill\": {\"color\": \"#C8D4E3\"}, \"line\": {\"color\": \"white\"}}, \"type\": \"table\"}]}, \"layout\": {\"annotationdefaults\": {\"arrowcolor\": \"#2a3f5f\", \"arrowhead\": 0, \"arrowwidth\": 1}, \"autotypenumbers\": \"strict\", \"coloraxis\": {\"colorbar\": {\"outlinewidth\": 0, \"ticks\": \"\"}}, \"colorscale\": {\"diverging\": [[0, \"#8e0152\"], [0.1, \"#c51b7d\"], [0.2, \"#de77ae\"], [0.3, \"#f1b6da\"], [0.4, \"#fde0ef\"], [0.5, \"#f7f7f7\"], [0.6, \"#e6f5d0\"], [0.7, \"#b8e186\"], [0.8, \"#7fbc41\"], [0.9, \"#4d9221\"], [1, \"#276419\"]], \"sequential\": [[0.0, \"#0d0887\"], [0.1111111111111111, \"#46039f\"], [0.2222222222222222, \"#7201a8\"], [0.3333333333333333, \"#9c179e\"], [0.4444444444444444, \"#bd3786\"], [0.5555555555555556, \"#d8576b\"], [0.6666666666666666, \"#ed7953\"], [0.7777777777777778, \"#fb9f3a\"], [0.8888888888888888, \"#fdca26\"], [1.0, \"#f0f921\"]], \"sequentialminus\": [[0.0, \"#0d0887\"], [0.1111111111111111, \"#46039f\"], [0.2222222222222222, \"#7201a8\"], [0.3333333333333333, \"#9c179e\"], [0.4444444444444444, \"#bd3786\"], [0.5555555555555556, \"#d8576b\"], [0.6666666666666666, \"#ed7953\"], [0.7777777777777778, \"#fb9f3a\"], [0.8888888888888888, \"#fdca26\"], [1.0, \"#f0f921\"]]}, \"colorway\": [\"#636efa\", \"#EF553B\", \"#00cc96\", \"#ab63fa\", \"#FFA15A\", \"#19d3f3\", \"#FF6692\", \"#B6E880\", \"#FF97FF\", \"#FECB52\"], \"font\": {\"color\": \"#2a3f5f\"}, \"geo\": {\"bgcolor\": \"white\", \"lakecolor\": \"white\", \"landcolor\": \"#E5ECF6\", \"showlakes\": true, \"showland\": true, \"subunitcolor\": \"white\"}, \"hoverlabel\": {\"align\": \"left\"}, \"hovermode\": \"closest\", \"mapbox\": {\"style\": \"light\"}, \"paper_bgcolor\": \"white\", \"plot_bgcolor\": \"#E5ECF6\", \"polar\": {\"angularaxis\": {\"gridcolor\": \"white\", \"linecolor\": \"white\", \"ticks\": \"\"}, \"bgcolor\": \"#E5ECF6\", \"radialaxis\": {\"gridcolor\": \"white\", \"linecolor\": \"white\", \"ticks\": \"\"}}, \"scene\": {\"xaxis\": {\"backgroundcolor\": \"#E5ECF6\", \"gridcolor\": \"white\", \"gridwidth\": 2, \"linecolor\": \"white\", \"showbackground\": true, \"ticks\": \"\", \"zerolinecolor\": \"white\"}, \"yaxis\": {\"backgroundcolor\": \"#E5ECF6\", \"gridcolor\": \"white\", \"gridwidth\": 2, \"linecolor\": \"white\", \"showbackground\": true, \"ticks\": \"\", \"zerolinecolor\": \"white\"}, \"zaxis\": {\"backgroundcolor\": \"#E5ECF6\", \"gridcolor\": \"white\", \"gridwidth\": 2, \"linecolor\": \"white\", \"showbackground\": true, \"ticks\": \"\", \"zerolinecolor\": \"white\"}}, \"shapedefaults\": {\"line\": {\"color\": \"#2a3f5f\"}}, \"ternary\": {\"aaxis\": {\"gridcolor\": \"white\", \"linecolor\": \"white\", \"ticks\": \"\"}, \"baxis\": {\"gridcolor\": \"white\", \"linecolor\": \"white\", \"ticks\": \"\"}, \"bgcolor\": \"#E5ECF6\", \"caxis\": {\"gridcolor\": \"white\", \"linecolor\": \"white\", \"ticks\": \"\"}}, \"title\": {\"x\": 0.05}, \"xaxis\": {\"automargin\": true, \"gridcolor\": \"white\", \"linecolor\": \"white\", \"ticks\": \"\", \"title\": {\"standoff\": 15}, \"zerolinecolor\": \"white\", \"zerolinewidth\": 2}, \"yaxis\": {\"automargin\": true, \"gridcolor\": \"white\", \"linecolor\": \"white\", \"ticks\": \"\", \"title\": {\"standoff\": 15}, \"zerolinecolor\": \"white\", \"zerolinewidth\": 2}}}},                        {\"responsive\": true}                    ).then(function(){\n",
              "                            \n",
              "var gd = document.getElementById('e8927354-eb98-4f87-8bc1-6f4b41502dd5');\n",
              "var x = new MutationObserver(function (mutations, observer) {{\n",
              "        var display = window.getComputedStyle(gd).display;\n",
              "        if (!display || display === 'none') {{\n",
              "            console.log([gd, 'removed!']);\n",
              "            Plotly.purge(gd);\n",
              "            observer.disconnect();\n",
              "        }}\n",
              "}});\n",
              "\n",
              "// Listen for the removal of the full notebook cells\n",
              "var notebookContainer = gd.closest('#notebook-container');\n",
              "if (notebookContainer) {{\n",
              "    x.observe(notebookContainer, {childList: true});\n",
              "}}\n",
              "\n",
              "// Listen for the clearing of the current output cell\n",
              "var outputEl = gd.closest('.output');\n",
              "if (outputEl) {{\n",
              "    x.observe(outputEl, {childList: true});\n",
              "}}\n",
              "\n",
              "                        })                };                            </script>        </div>\n",
              "</body>\n",
              "</html>"
            ]
          },
          "metadata": {
            "tags": []
          }
        }
      ]
    },
    {
      "cell_type": "code",
      "metadata": {
        "id": "XjpSTOkHhYcJ",
        "colab": {
          "base_uri": "https://localhost:8080/",
          "height": 225
        },
        "outputId": "5cf54069-1cd8-4de5-8052-644b36f81199"
      },
      "source": [
        "df_fires_states.rename(columns={'FOD_ID' : 'COUNT'}).sort_values(by='COUNT', ascending=False).head()"
      ],
      "execution_count": null,
      "outputs": [
        {
          "output_type": "execute_result",
          "data": {
            "text/html": [
              "<div>\n",
              "<style scoped>\n",
              "    .dataframe tbody tr th:only-of-type {\n",
              "        vertical-align: middle;\n",
              "    }\n",
              "\n",
              "    .dataframe tbody tr th {\n",
              "        vertical-align: top;\n",
              "    }\n",
              "\n",
              "    .dataframe thead th {\n",
              "        text-align: right;\n",
              "    }\n",
              "</style>\n",
              "<table border=\"1\" class=\"dataframe\">\n",
              "  <thead>\n",
              "    <tr style=\"text-align: right;\">\n",
              "      <th></th>\n",
              "      <th>COUNT</th>\n",
              "    </tr>\n",
              "    <tr>\n",
              "      <th>STATE</th>\n",
              "      <th></th>\n",
              "    </tr>\n",
              "  </thead>\n",
              "  <tbody>\n",
              "    <tr>\n",
              "      <th>CA</th>\n",
              "      <td>189550</td>\n",
              "    </tr>\n",
              "    <tr>\n",
              "      <th>GA</th>\n",
              "      <td>168867</td>\n",
              "    </tr>\n",
              "    <tr>\n",
              "      <th>TX</th>\n",
              "      <td>142021</td>\n",
              "    </tr>\n",
              "    <tr>\n",
              "      <th>NC</th>\n",
              "      <td>111277</td>\n",
              "    </tr>\n",
              "    <tr>\n",
              "      <th>FL</th>\n",
              "      <td>90261</td>\n",
              "    </tr>\n",
              "  </tbody>\n",
              "</table>\n",
              "</div>"
            ],
            "text/plain": [
              "        COUNT\n",
              "STATE        \n",
              "CA     189550\n",
              "GA     168867\n",
              "TX     142021\n",
              "NC     111277\n",
              "FL      90261"
            ]
          },
          "metadata": {
            "tags": []
          },
          "execution_count": 12
        }
      ]
    },
    {
      "cell_type": "markdown",
      "metadata": {
        "id": "1Yjk-XvjYLAe"
      },
      "source": [
        "The top three are California, Georgia and Texas"
      ]
    },
    {
      "cell_type": "markdown",
      "metadata": {
        "id": "V6l5MGL9l7f2"
      },
      "source": [
        "### Fires by Cause"
      ]
    },
    {
      "cell_type": "markdown",
      "metadata": {
        "id": "0pmoqFvbYPEX"
      },
      "source": [
        "What were the leading causes of fires across the US and in California during 1992-2015?"
      ]
    },
    {
      "cell_type": "markdown",
      "metadata": {
        "id": "nkVb3KYxDoxt"
      },
      "source": [
        "Let's flip over and use our sql skills to build out the rest of this EDA"
      ]
    },
    {
      "cell_type": "code",
      "metadata": {
        "id": "388dGo3jj-IV"
      },
      "source": [
        "causes_query = '''\n",
        "select df_fires.STAT_CAUSE_DESCR as CAUSE, count(df_fires.FOD_ID)/1000 COUNT\n",
        "    from df_fires\n",
        "    group by df_fires.STAT_CAUSE_DESCR\n",
        "    order by COUNT desc\n",
        "'''"
      ],
      "execution_count": null,
      "outputs": []
    },
    {
      "cell_type": "code",
      "metadata": {
        "id": "rX3UAYohdsV9"
      },
      "source": [
        "causes_query_CA = '''\n",
        "select df_fires.STAT_CAUSE_DESCR as CAUSE, count(df_fires.FOD_ID)/1000 COUNT_CA\n",
        "    from df_fires\n",
        "    where STATE like 'CA'\n",
        "    group by df_fires.STAT_CAUSE_DESCR\n",
        "    order by COUNT_CA desc\n",
        "'''"
      ],
      "execution_count": null,
      "outputs": []
    },
    {
      "cell_type": "code",
      "metadata": {
        "id": "sFNyh6eVm-2n"
      },
      "source": [
        "df_causes = ps.sqldf(causes_query, locals())"
      ],
      "execution_count": null,
      "outputs": []
    },
    {
      "cell_type": "code",
      "metadata": {
        "id": "P3Y3OVYLh33m"
      },
      "source": [
        "df_causes_CA = ps.sqldf(causes_query_CA, locals())"
      ],
      "execution_count": null,
      "outputs": []
    },
    {
      "cell_type": "code",
      "metadata": {
        "id": "kY0Jhyveg2LP"
      },
      "source": [
        "#creating a pct column to compare both, merging both dframes into 1 for plotting purposes\n",
        "df_causes['PCT'] = 100*df_causes['COUNT']/sum(df_causes['COUNT'])\n",
        "df_causes_CA['PCT_CA'] = 100*df_causes_CA['COUNT_CA']/sum(df_causes_CA['COUNT_CA'])\n",
        "df_causes_both = df_causes.merge(df_causes_CA,how='inner', on='CAUSE')"
      ],
      "execution_count": null,
      "outputs": []
    },
    {
      "cell_type": "code",
      "metadata": {
        "id": "dhfZkcNAitTi"
      },
      "source": [
        "df_causes_both_index = df_causes_both.set_index('CAUSE')"
      ],
      "execution_count": null,
      "outputs": []
    },
    {
      "cell_type": "code",
      "metadata": {
        "colab": {
          "base_uri": "https://localhost:8080/",
          "height": 761
        },
        "id": "HbSgrIaLpA6o",
        "outputId": "178062a2-5d6f-4361-ae68-e0a8626545a1"
      },
      "source": [
        "#plot total number of fires \n",
        "ax = df_causes_both_index[['COUNT','COUNT_CA']].plot.barh(figsize=(20,12),label = ['USA','CA'])\n",
        "plt.ylabel('Causes', size = 22)\n",
        "plt.xlabel('Number of Wildfires (thousands)', size = 22)\n",
        "plt.xticks(fontsize=15)\n",
        "plt.yticks(fontsize=15)\n",
        "plt.title('Number of Wildfires per Cause 1992-2015', size = 30)\n",
        "# plt.xticks(np.arange(0, max(COUNT), 2))\n",
        "plt.legend()\n",
        "plt.show()"
      ],
      "execution_count": null,
      "outputs": [
        {
          "output_type": "display_data",
          "data": {
            "image/png": "[encoded data removed]",
            "text/plain": [
              "<Figure size 1440x864 with 1 Axes>"
            ]
          },
          "metadata": {
            "tags": []
          }
        }
      ]
    },
    {
      "cell_type": "code",
      "metadata": {
        "colab": {
          "base_uri": "https://localhost:8080/",
          "height": 761
        },
        "id": "XgE-cr2CjoXM",
        "outputId": "ef6c5611-8dfe-40ef-fe32-faea436f32a1"
      },
      "source": [
        "#plotting percentage of causes\n",
        "ax = df_causes_both_index[['PCT','PCT_CA']].plot.barh(figsize=(20,12),label = ['USA','CA'])\n",
        "plt.ylabel('Causes', size = 22)\n",
        "plt.xlabel('Percentage', size = 22)\n",
        "plt.xticks(fontsize=15)\n",
        "plt.yticks(fontsize=17)\n",
        "plt.title('Percentage of Wildfires per Cause 1992-2015', size = 30)\n",
        "plt.xticks(np.arange(0, 30, 2))\n",
        "plt.legend()\n",
        "plt.show()"
      ],
      "execution_count": null,
      "outputs": [
        {
          "output_type": "display_data",
          "data": {
            "image/png": "[encoded data removed]",
            "text/plain": [
              "<Figure size 1440x864 with 1 Axes>"
            ]
          },
          "metadata": {
            "tags": []
          }
        }
      ]
    },
    {
      "cell_type": "markdown",
      "metadata": {
        "id": "ZuX6p7IeYfQB"
      },
      "source": [
        "Were the leading causes different during 2010-2015?"
      ]
    },
    {
      "cell_type": "code",
      "metadata": {
        "id": "dlQu_G6RKdSg"
      },
      "source": [
        "causes_query_2010 = '''\n",
        "select df_fires.STAT_CAUSE_DESCR as CAUSE, count(df_fires.FOD_ID)/1000 COUNT\n",
        "    from df_fires\n",
        "    where FIRE_YEAR > 2010\n",
        "    group by df_fires.STAT_CAUSE_DESCR\n",
        "    order by COUNT desc\n",
        "'''"
      ],
      "execution_count": null,
      "outputs": []
    },
    {
      "cell_type": "code",
      "metadata": {
        "id": "WWz6weLnKn8K"
      },
      "source": [
        "causes_query_2010_CA = '''\n",
        "select df_fires.STAT_CAUSE_DESCR as CAUSE, count(df_fires.FOD_ID)/1000 COUNT_CA\n",
        "    from df_fires\n",
        "    where FIRE_YEAR > 2010 AND STATE like 'CA'\n",
        "    group by df_fires.STAT_CAUSE_DESCR\n",
        "    order by COUNT_CA desc\n",
        "'''"
      ],
      "execution_count": null,
      "outputs": []
    },
    {
      "cell_type": "code",
      "metadata": {
        "id": "ftK_uhpoKxo7"
      },
      "source": [
        "df_causes_after_2010 = ps.sqldf(causes_query_2010, locals())\n"
      ],
      "execution_count": null,
      "outputs": []
    },
    {
      "cell_type": "code",
      "metadata": {
        "id": "D8ESc_qNL5ug"
      },
      "source": [
        "df_causes_CA_after_2010 = ps.sqldf(causes_query_2010_CA, locals())\n"
      ],
      "execution_count": null,
      "outputs": []
    },
    {
      "cell_type": "code",
      "metadata": {
        "id": "EfjHzxs2LqoL"
      },
      "source": [
        "#merging both dframes\n",
        "df_causes_after_2010['PCT'] = 100*df_causes_after_2010['COUNT']/sum(df_causes_after_2010['COUNT'])\n",
        "df_causes_CA_after_2010['PCT_CA'] = 100*df_causes_CA_after_2010['COUNT_CA']/sum(df_causes_CA_after_2010['COUNT_CA'])\n",
        "df_causes_both_after_2010 = df_causes_after_2010.merge(df_causes_CA_after_2010,how='inner', on='CAUSE')\n",
        "df_causes_both_after_2010_index = df_causes_both.set_index('CAUSE')"
      ],
      "execution_count": null,
      "outputs": []
    },
    {
      "cell_type": "code",
      "metadata": {
        "id": "96_cetKlMmom"
      },
      "source": [
        "df_causes_both_after_2010_index"
      ],
      "execution_count": null,
      "outputs": []
    },
    {
      "cell_type": "code",
      "metadata": {
        "id": "G9tH8g6KK74x"
      },
      "source": [
        "#plot total number of fires \n",
        "ax = df_causes_both_after_2010_index[['COUNT','COUNT_CA']].plot.barh(figsize=(20,12),label = ['USA','CA'])\n",
        "plt.ylabel('Causes', size = 22)\n",
        "plt.xlabel('Number of Wildfires (thousands)', size = 22)\n",
        "plt.xticks(fontsize=15)\n",
        "plt.yticks(fontsize=17)\n",
        "plt.title('Number of Wildfires per Cause 2010-2015', size = 30)\n",
        "# plt.xticks(np.arange(0, max(COUNT), 2))\n",
        "plt.legend()\n",
        "plt.show()"
      ],
      "execution_count": null,
      "outputs": []
    },
    {
      "cell_type": "code",
      "metadata": {
        "id": "VmpYEufbpNjr"
      },
      "source": [
        "#plotting percentage of causes\n",
        "ax = df_causes_both_after_2010_index[['PCT','PCT_CA']].plot.barh(figsize=(20,12),label = ['USA','CA'])\n",
        "plt.ylabel('Causes', size = 22)\n",
        "plt.xlabel('Percentage', size = 22)\n",
        "plt.xticks(fontsize=15)\n",
        "plt.yticks(fontsize=17)\n",
        "plt.title('Percentage of Wildfires per Cause 2010-2015', size = 30)\n",
        "plt.xticks(np.arange(0, 30, 2))\n",
        "plt.legend()\n",
        "plt.show()"
      ],
      "execution_count": null,
      "outputs": []
    },
    {
      "cell_type": "code",
      "metadata": {
        "id": "wLoTEIQBuH9d"
      },
      "source": [
        "df_fires.head()"
      ],
      "execution_count": null,
      "outputs": []
    },
    {
      "cell_type": "markdown",
      "metadata": {
        "id": "X69l-diWYh6S"
      },
      "source": [
        "What was the average size of fires per cause?"
      ]
    },
    {
      "cell_type": "code",
      "metadata": {
        "id": "H7-HrdwjTsna"
      },
      "source": [
        "#average size per cause\n",
        "causes_size_query = '''\n",
        "select df_fires.STAT_CAUSE_DESCR as CAUSE, avg(df_fires.FIRE_SIZE) AVERAGE_SIZE\n",
        "    from df_fires\n",
        "    group by df_fires.STAT_CAUSE_DESCR\n",
        "    order by AVERAGE_SIZE desc\n",
        "'''"
      ],
      "execution_count": null,
      "outputs": []
    },
    {
      "cell_type": "code",
      "metadata": {
        "id": "XDN5F10gT-jG"
      },
      "source": [
        "df_causes_size = ps.sqldf(causes_size_query, locals())"
      ],
      "execution_count": null,
      "outputs": []
    },
    {
      "cell_type": "code",
      "metadata": {
        "id": "6URWvWJKWQca"
      },
      "source": [
        "df_causes_size.head()"
      ],
      "execution_count": null,
      "outputs": []
    },
    {
      "cell_type": "code",
      "metadata": {
        "id": "N3XT3v0pUF0c"
      },
      "source": [
        "#average size per cause\n",
        "causes_size_query_CA = '''\n",
        "select df_fires.STAT_CAUSE_DESCR as CAUSE, avg(df_fires.FIRE_SIZE) AVERAGE_SIZE_CA\n",
        "    from df_fires\n",
        "    where STATE like 'CA'\n",
        "    group by df_fires.STAT_CAUSE_DESCR\n",
        "    order by AVERAGE_SIZE_CA desc\n",
        "'''"
      ],
      "execution_count": null,
      "outputs": []
    },
    {
      "cell_type": "code",
      "metadata": {
        "id": "Qnm0JMARUPHX"
      },
      "source": [
        "df_causes_size_CA = ps.sqldf(causes_size_query_CA, locals())"
      ],
      "execution_count": null,
      "outputs": []
    },
    {
      "cell_type": "code",
      "metadata": {
        "id": "4MiezG75UjsD"
      },
      "source": [
        "#merging both dframes\n",
        "df_causes_both_size = df_causes_size.merge(df_causes_size_CA,how='inner', on='CAUSE')\n",
        "df_causes_both_index = df_causes_both_size.set_index('CAUSE')\n"
      ],
      "execution_count": null,
      "outputs": []
    },
    {
      "cell_type": "code",
      "metadata": {
        "id": "Z2K1aR3bhtDs"
      },
      "source": [
        "df_causes_both_index.head()"
      ],
      "execution_count": null,
      "outputs": []
    },
    {
      "cell_type": "code",
      "metadata": {
        "id": "txMSgMiEUDb_"
      },
      "source": [
        "#plotting percentage of causes\n",
        "ax = df_causes_both_index[['AVERAGE_SIZE','AVERAGE_SIZE_CA']].plot.barh(figsize=(20,12),label = ['USA','CA'])\n",
        "plt.ylabel('Causes', size = 22)\n",
        "plt.xlabel('Average Size (acres)', size = 22)\n",
        "plt.xticks(fontsize=15)\n",
        "plt.yticks(fontsize=17)\n",
        "plt.title('Average Size of Wildfires per Cause 1992-2015', size = 30)\n",
        "plt.xticks(np.arange(0, 700, 25))\n",
        "plt.legend()\n",
        "plt.show()"
      ],
      "execution_count": null,
      "outputs": []
    },
    {
      "cell_type": "markdown",
      "metadata": {
        "id": "Oy3M8fXAt5VG"
      },
      "source": [
        "### Fires by Length\n",
        "\n"
      ]
    },
    {
      "cell_type": "markdown",
      "metadata": {
        "id": "IWHU_igNYkCu"
      },
      "source": [
        "In which states do the fires burn the longest? For how long?"
      ]
    },
    {
      "cell_type": "code",
      "metadata": {
        "id": "UTznqVDaSj-9"
      },
      "source": [
        "#find the length of fire\n",
        "time_dif_query = '''\n",
        "select FOD_ID, STATE,FIRE_YEAR, (1440*ABS(strftime('%d',CONTAINED_DATE)-strftime('%d',DISCOVERED_DATE))+(CONT_TIME-DISCOVERY_TIME)) as MIN_DIF\n",
        "    from df_fires\n",
        "'''"
      ],
      "execution_count": null,
      "outputs": []
    },
    {
      "cell_type": "code",
      "metadata": {
        "id": "PxYng9N2asD9"
      },
      "source": [
        "df_time_dif = ps.sqldf(time_dif_query, locals())"
      ],
      "execution_count": null,
      "outputs": []
    },
    {
      "cell_type": "code",
      "metadata": {
        "id": "mybdWSXhcXpu"
      },
      "source": [
        "df_time_dif = df_time_dif.dropna()"
      ],
      "execution_count": null,
      "outputs": []
    },
    {
      "cell_type": "code",
      "metadata": {
        "id": "3u4onbBdc9Gi"
      },
      "source": [
        "avg_len_state_query = '''\n",
        "\n",
        "select STATE, avg(MIN_DIF) as AVG_MIN_DIF, avg(MIN_DIF)/60 as AVG_H_DIF\n",
        "    from df_time_dif\n",
        "    group by STATE\n",
        "    order by AVG_MIN_DIF desc\n",
        "'''\n"
      ],
      "execution_count": null,
      "outputs": []
    },
    {
      "cell_type": "code",
      "metadata": {
        "id": "WLUCQoEZdJD5"
      },
      "source": [
        "df_avg_len_state = ps.sqldf(avg_len_state_query, locals())"
      ],
      "execution_count": null,
      "outputs": []
    },
    {
      "cell_type": "code",
      "metadata": {
        "id": "5a0jn2CCdTAr"
      },
      "source": [
        "df_avg_len_state.head()"
      ],
      "execution_count": null,
      "outputs": []
    },
    {
      "cell_type": "code",
      "metadata": {
        "id": "70eAC_8keKmL"
      },
      "source": [
        "#map plotting\n",
        "fig = px.choropleth(df_avg_len_state, locationmode = \"USA-states\", locations='STATE', color='AVG_H_DIF',\n",
        "                           color_continuous_scale=\"Viridis\",\n",
        "                           range_color=(0, 145),\n",
        "                           scope=\"usa\",\n",
        "                           labels={'AVG_H_DIF':'Average Length of Wildfires (hours)'}\n",
        "                          )\n",
        "fig.update_layout(margin={\"r\":0,\"t\":0,\"l\":0,\"b\":0})\n",
        "fig.show()"
      ],
      "execution_count": null,
      "outputs": []
    },
    {
      "cell_type": "code",
      "metadata": {
        "id": "TyjUl6p3a-cV"
      },
      "source": [
        "df_time_dif.head()"
      ],
      "execution_count": null,
      "outputs": []
    },
    {
      "cell_type": "code",
      "metadata": {
        "id": "66842Cm2dOIq"
      },
      "source": [
        "date_dif_query = '''\n",
        "\n",
        "select STATE, avg(ABS(strftime('%d',CONTAINED_DATE)-strftime('%d',DISCOVERED_DATE))) as AVG_DATE_DIF\n",
        "    from df_fires\n",
        "    group by STATE\n",
        "    order by AVG_DATE_DIF desc\n",
        "'''\n"
      ],
      "execution_count": null,
      "outputs": []
    },
    {
      "cell_type": "markdown",
      "metadata": {
        "id": "mmSBDUEjVfHL"
      },
      "source": [
        "### Fires by size"
      ]
    },
    {
      "cell_type": "markdown",
      "metadata": {
        "id": "l3WtbM2bYrax"
      },
      "source": [
        "In which states are the fires most destructive? How big are they on average?"
      ]
    },
    {
      "cell_type": "code",
      "metadata": {
        "id": "WL6ogfxMVg4_"
      },
      "source": [
        "avg_size_state_query = '''\n",
        "\n",
        "select STATE, avg(FIRE_SIZE) as AVG_SIZE\n",
        "    from df_fires\n",
        "    group by STATE\n",
        "    order by AVG_SIZE desc\n",
        "'''"
      ],
      "execution_count": null,
      "outputs": []
    },
    {
      "cell_type": "code",
      "metadata": {
        "id": "anjctnIpgYb_"
      },
      "source": [
        "df_avg_size_state = ps.sqldf(avg_size_state_query, locals())"
      ],
      "execution_count": null,
      "outputs": []
    },
    {
      "cell_type": "code",
      "metadata": {
        "id": "wL28wl0ahH5I"
      },
      "source": [
        "df_avg_size_state.head()"
      ],
      "execution_count": null,
      "outputs": []
    },
    {
      "cell_type": "code",
      "metadata": {
        "id": "gIWQSAHitUc-"
      },
      "source": [
        "#map plotting\n",
        "fig = px.choropleth(df_avg_size_state, locationmode = \"USA-states\", locations='STATE', color='AVG_SIZE',\n",
        "                           color_continuous_scale=\"Viridis\",\n",
        "                           range_color=(0, 500),\n",
        "                           scope=\"usa\",\n",
        "                           labels={'AVG_SIZE':'Average Size of Wildfires (acres)'}\n",
        "                          )\n",
        "fig.update_layout(margin={\"r\":0,\"t\":0,\"l\":0,\"b\":0})\n",
        "fig.show()"
      ],
      "execution_count": null,
      "outputs": []
    },
    {
      "cell_type": "markdown",
      "metadata": {
        "id": "cNJHXbTE4T2N"
      },
      "source": [
        "## Predictive Models"
      ]
    },
    {
      "cell_type": "markdown",
      "metadata": {
        "id": "eY0rQZfIElLY"
      },
      "source": [
        "Next, let's just take a subset of our data to make our modeling process faster. We can use the whole dataset later to ensure we are building a robust model."
      ]
    },
    {
      "cell_type": "code",
      "metadata": {
        "id": "-YatD96PoSU8"
      },
      "source": [
        "df_fires = df_fires.sample(frac=0.3, random_state=42)"
      ],
      "execution_count": null,
      "outputs": []
    },
    {
      "cell_type": "markdown",
      "metadata": {
        "id": "0ijhMxi9u2qq"
      },
      "source": [
        "### Predicting Wildfire Causes"
      ]
    },
    {
      "cell_type": "markdown",
      "metadata": {
        "id": "3nU6DiUWFLef"
      },
      "source": [
        "Preprocess data"
      ]
    },
    {
      "cell_type": "code",
      "metadata": {
        "id": "Kri1RImSv2ut"
      },
      "source": [
        "# classification problem \n",
        "\n",
        "# drop null values and columns which don't have relevence to the question\n",
        "df_fires_subset = df_fires[['FOD_ID', 'FIRE_YEAR', 'DISCOVERED_MONTH', 'DISCOVERED_DAY', 'FIRE_SIZE', 'LATITUDE', 'LONGITUDE', 'STAT_CAUSE_DESCR']].dropna().set_index('FOD_ID')\n",
        "# also drop all rows where cause is missing\n",
        "df_fires_subset = df_fires_subset[df_fires_subset['STAT_CAUSE_DESCR'] != 'Missing/Undefined']\n",
        "\n",
        "df_fires_clean = pd.get_dummies(df_fires_subset, columns=['DISCOVERED_MONTH', 'DISCOVERED_DAY'])\n",
        "\n",
        "X = df_fires_clean.drop(columns=['STAT_CAUSE_DESCR'])\n",
        "y = df_fires_clean['STAT_CAUSE_DESCR']\n",
        "\n",
        "X_train, X_test, y_train, y_test = train_test_split(X, y, test_size=0.33, random_state=42)\n",
        "\n",
        "print(\"X_train shape\")\n",
        "print(X_train.shape)\n",
        "print(\"X_test shape\")\n",
        "print(X_test.shape)\n",
        "print(\"y_train shape\")\n",
        "print(y_train.shape)\n",
        "print(\"y_test shape\")\n",
        "print(y_test.shape)"
      ],
      "execution_count": null,
      "outputs": []
    },
    {
      "cell_type": "markdown",
      "metadata": {
        "id": "JAcUVDy7Fejg"
      },
      "source": [
        "**Model 1: Benchmark**\n",
        "\n",
        "We can establish a baseline to make sure that our fancy models are actually doing something useful\n",
        "\n",
        "The simplest benchmark to use will just be to guess the most common cause - debris burning."
      ]
    },
    {
      "cell_type": "code",
      "metadata": {
        "id": "z7ZCHkicF7y8"
      },
      "source": [
        "y_pred = pd.Series(['Debris Burning']).repeat(len(y_test))\n",
        "\n",
        "from sklearn.metrics import accuracy_score\n",
        "accuracy_score(y_test, y_pred)"
      ],
      "execution_count": null,
      "outputs": []
    },
    {
      "cell_type": "markdown",
      "metadata": {
        "id": "bnbMKcfdKH7d"
      },
      "source": [
        "As long as we can beat an accuracy of 25% we will have built a useful model."
      ]
    },
    {
      "cell_type": "markdown",
      "metadata": {
        "id": "BS70FhfCKbqX"
      },
      "source": [
        "**Model 2: Decision Tree**\n",
        "\n",
        "Let's use our Fire Size feature to build a simple decision tree model and see if it improves our accuracy"
      ]
    },
    {
      "cell_type": "code",
      "metadata": {
        "id": "gff5IzowLXNt"
      },
      "source": [
        "X_train_tree = X_train[['FIRE_SIZE']]\n",
        "X_test_tree = X_test[['FIRE_SIZE']]"
      ],
      "execution_count": null,
      "outputs": []
    },
    {
      "cell_type": "code",
      "metadata": {
        "id": "W8443vzRMp88"
      },
      "source": [
        "from sklearn.tree import DecisionTreeClassifier\n",
        "clf = DecisionTreeClassifier(criterion='entropy')\n",
        "clf = clf.fit(X_train_tree, y_train)\n",
        "\n",
        "y_pred = clf.predict(X_test_tree)"
      ],
      "execution_count": null,
      "outputs": []
    },
    {
      "cell_type": "code",
      "metadata": {
        "id": "AJqxFdR6NBU4"
      },
      "source": [
        "accuracy_score(y_test, y_pred)"
      ],
      "execution_count": null,
      "outputs": []
    },
    {
      "cell_type": "markdown",
      "metadata": {
        "id": "vc9KTLcvNF_q"
      },
      "source": [
        "It seems that by just using the size of a fire, we can improve our prediction by just a bit. However, our score still isn't very good.\n",
        "\n",
        "We can look at a confusion matrix to see what predictions our model is making. A perfect model would have a rating of 1.0 on a downward-sloping diagonal line and 0.0 everywhere else."
      ]
    },
    {
      "cell_type": "code",
      "metadata": {
        "id": "VsiUWLEbOig2"
      },
      "source": [
        "from sklearn.metrics import plot_confusion_matrix\n",
        "ax = plot_confusion_matrix(clf, X_test_tree, y_test, normalize='true', xticks_rotation='vertical', include_values=False)\n",
        "plt.title(\"Confusion Matrix\")"
      ],
      "execution_count": null,
      "outputs": []
    },
    {
      "cell_type": "markdown",
      "metadata": {
        "id": "Yzr0aeMer0mJ"
      },
      "source": [
        "**Model 3: Add more features**\n",
        "\n",
        "Let's add in the rest of our seemingly relevent features into our tree model to see how it improves our prediction accuracy."
      ]
    },
    {
      "cell_type": "code",
      "metadata": {
        "id": "vBlNYO1fsNAu"
      },
      "source": [
        "clf = DecisionTreeClassifier(criterion='entropy')\n",
        "clf = clf.fit(X_train, y_train)\n",
        "\n",
        "y_pred = clf.predict(X_test)"
      ],
      "execution_count": null,
      "outputs": []
    },
    {
      "cell_type": "code",
      "metadata": {
        "id": "rtnGifaKs89X"
      },
      "source": [
        "accuracy_score(y_test, y_pred)"
      ],
      "execution_count": null,
      "outputs": []
    },
    {
      "cell_type": "markdown",
      "metadata": {
        "id": "c7z5jmwNtE3U"
      },
      "source": [
        "**This** is a great improvement on our previous models! Let's take a look at our new confusion matrix."
      ]
    },
    {
      "cell_type": "code",
      "metadata": {
        "id": "nuyTofw8tSPd"
      },
      "source": [
        "ax = plot_confusion_matrix(clf, X_test, y_test, normalize='true', xticks_rotation='vertical', include_values=False)\n",
        "plt.title(\"Confusion Matrix\")"
      ],
      "execution_count": null,
      "outputs": []
    },
    {
      "cell_type": "markdown",
      "metadata": {
        "id": "vxXkNGzdvK8f"
      },
      "source": [
        "We can see a diagonal line developing! And we are no longer simply predicting debris or lightning for every case. In particular, we are very accurately predicting lightning strikes."
      ]
    },
    {
      "cell_type": "markdown",
      "metadata": {
        "id": "5ibEyRzTvZ3X"
      },
      "source": [
        "**Model 5: Random Forest**\n",
        "\n",
        "Let's now see if using a fancier method can yield a better accuracy"
      ]
    },
    {
      "cell_type": "code",
      "metadata": {
        "id": "6DfPZ2gjy6J-"
      },
      "source": [
        "from sklearn.ensemble import RandomForestClassifier\n",
        "from sklearn.datasets import make_classification\n",
        "clf = RandomForestClassifier(random_state=42, verbose=2)\n",
        "clf.fit(X_train, y_train)\n",
        "\n",
        "y_pred = clf.predict(X_test)"
      ],
      "execution_count": null,
      "outputs": []
    },
    {
      "cell_type": "code",
      "metadata": {
        "id": "l8v88BfbwKq7"
      },
      "source": [
        "accuracy_score(y_pred, y_test)"
      ],
      "execution_count": null,
      "outputs": []
    },
    {
      "cell_type": "code",
      "metadata": {
        "id": "bmj9UWouwOqm"
      },
      "source": [
        "ax = plot_confusion_matrix(clf, X_test, y_test, normalize='true', xticks_rotation='vertical', include_values=False)\n",
        "plt.title(\"Confusion Matrix\")"
      ],
      "execution_count": null,
      "outputs": []
    },
    {
      "cell_type": "markdown",
      "metadata": {
        "id": "qTGbksxLxfp_"
      },
      "source": [
        "### Predicting Time to Extinguish After Detection, run Fires by Length"
      ]
    },
    {
      "cell_type": "markdown",
      "metadata": {
        "id": "wKgGpuHgY2JS"
      },
      "source": [
        "**Preprocess data**"
      ]
    },
    {
      "cell_type": "code",
      "metadata": {
        "id": "bZ_J1F1KoSkq"
      },
      "source": [
        "df_fires.head()"
      ],
      "execution_count": null,
      "outputs": []
    },
    {
      "cell_type": "code",
      "metadata": {
        "id": "BhGCwu-Vm0SY"
      },
      "source": [
        "df_id_len = df_time_dif[['FOD_ID','MIN_DIF']]\n",
        "df_fires_len = pd.merge(df_fires, df_id_len, on=\"FOD_ID\")\n",
        "df_fires_len_clean = df_fires_len.drop(['FIPS_NAME','CONT_TIME','DISCOVERY_TIME','DISCOVERED_DATE','CONTAINED_DATE','OWNER_DESCR','FIRE_SIZE_CLASS','CONT_DATE','STAT_CAUSE_DESCR','DISCOVERY_DATE','FIRE_NAME','FIRE_CODE','STATE','COUNTY','FIPS_CODE'],axis = 1).dropna().set_index('FOD_ID')\n"
      ],
      "execution_count": null,
      "outputs": []
    },
    {
      "cell_type": "code",
      "metadata": {
        "id": "2kzuqrrynB3l"
      },
      "source": [
        "#is the data correlated?\n",
        "corr_matrix = df_fires_len_clean.corr()\n",
        "\n",
        "import seaborn as sn\n",
        "import matplotlib.pyplot as plt\n",
        "\n",
        "plt.figure(figsize=(15,8))\n",
        "sn.heatmap(corr_matrix, annot=True)\n",
        "plt.show()"
      ],
      "execution_count": null,
      "outputs": []
    },
    {
      "cell_type": "code",
      "metadata": {
        "id": "eErGsMZEWGkc"
      },
      "source": [
        "#one hot encode the months, days, owner code, cause code\n",
        "df_fires_len_clean_one_hot = pd.get_dummies(df_fires_len_clean, columns=['DISCOVERED_MONTH', 'DISCOVERED_DAY', 'OWNER_CODE','STAT_CAUSE_CODE'])\n"
      ],
      "execution_count": null,
      "outputs": []
    },
    {
      "cell_type": "code",
      "metadata": {
        "id": "qOGnrV7GWJer"
      },
      "source": [
        "#split into X and y\n",
        "label = df_fires_len_clean_one_hot[['MIN_DIF']]\n",
        "features = df_fires_len_clean_one_hot.drop(columns=['MIN_DIF'])"
      ],
      "execution_count": null,
      "outputs": []
    },
    {
      "cell_type": "markdown",
      "metadata": {
        "id": "EGdBdGw9Y6Ck"
      },
      "source": [
        "**Split into train and test data**"
      ]
    },
    {
      "cell_type": "code",
      "metadata": {
        "id": "_EoOI7JKS0hA"
      },
      "source": [
        "from sklearn.model_selection import train_test_split\n",
        "# Split into train and testing data\n",
        "\n",
        "x_train, x_test, y_train, y_test = train_test_split(features, label, test_size=0.2)"
      ],
      "execution_count": null,
      "outputs": []
    },
    {
      "cell_type": "markdown",
      "metadata": {
        "id": "TpjkVukeZIU8"
      },
      "source": [
        "**Model 1: Linear Regression Normal**"
      ]
    },
    {
      "cell_type": "code",
      "metadata": {
        "id": "74wBcrIiVYnx"
      },
      "source": [
        "from sklearn.linear_model import LinearRegression\n",
        "from sklearn.metrics import mean_squared_error\n",
        "from sklearn.metrics import accuracy_score, mean_absolute_error, mean_squared_error\n",
        "\n",
        "model_LR = LinearRegression().fit(x_train,y_train)\n",
        "y_pred_LR = model_LR.predict(x_test)\n",
        "\n",
        "\n",
        "print(\"LR Score:\", model_LR.score(x_test, y_test))\n",
        "\n",
        "# Different error measures\n",
        "print(\"LR MAE:\", mean_absolute_error(y_test, y_pred_LR))\n",
        "print('LR MSE:', mean_squared_error(y_test, y_pred_LR))\n",
        "print('LR RMSE:', np.sqrt(mean_squared_error(y_test, y_pred_LR)))\n",
        "\n"
      ],
      "execution_count": null,
      "outputs": []
    },
    {
      "cell_type": "markdown",
      "metadata": {
        "id": "MgrkhboRY-gS"
      },
      "source": [
        "**Model 2: Lasso**"
      ]
    },
    {
      "cell_type": "code",
      "metadata": {
        "id": "IiiNi2V9ZvqW"
      },
      "source": [
        "#using Lasso/L1 regularization\n",
        "from sklearn.linear_model import Lasso\n",
        "# from sklearn.metrics import accuracy_score, mean_absolute_error, mean_squared_error\n",
        "\n",
        "clf_L1 = Lasso()\n",
        "clf_L1.fit(x_train, y_train)\n",
        "\n",
        "y_pred_L1 = clf_L1.predict(x_test)\n",
        "\n",
        "\n",
        "print(\"L1 Score:\", clf_L1.score(x_test, y_test))\n",
        "\n",
        "# Different error measures\n",
        "print(\"L1 MAE:\", mean_absolute_error(y_test, y_pred_L1))\n",
        "print('L1 MSE:', mean_squared_error(y_test, y_pred_L1))\n",
        "print('L1 RMSE:', np.sqrt(mean_squared_error(y_test, y_pred_L1)))\n"
      ],
      "execution_count": null,
      "outputs": []
    },
    {
      "cell_type": "markdown",
      "metadata": {
        "id": "9_HMQc81ZB3L"
      },
      "source": [
        "**Model 2: Elastic Net**"
      ]
    },
    {
      "cell_type": "code",
      "metadata": {
        "id": "W-h0EO7za4Dh"
      },
      "source": [
        "#using Elastic Net regularization\n",
        "from sklearn.linear_model import ElasticNet\n",
        "\n",
        "clf_EN = ElasticNet()\n",
        "clf_EN.fit(x_train, y_train)\n",
        "\n",
        "y_pred_EN = clf_EN.predict(x_test)\n",
        "\n",
        "print(\"EN Score:\", clf_EN.score(x_test, y_test))\n",
        "\n",
        "# Different error measures\n",
        "print(\"EN MAE:\", mean_absolute_error(y_test, y_pred_EN))\n",
        "print('EN MSE:', mean_squared_error(y_test, y_pred_EN))\n",
        "print('EN RMSE:', np.sqrt(mean_squared_error(y_test, y_pred_EN)))\n",
        "\n",
        "# print(clf_EN.coef_)"
      ],
      "execution_count": null,
      "outputs": []
    },
    {
      "cell_type": "code",
      "metadata": {
        "id": "8krGxd1blzhH"
      },
      "source": [
        "\n",
        "# from sklearn.model_selection import GridSearchCV\n",
        "# # Your code goes here\n",
        "# # Only tune the max depth of the trees in the RF hyperparameter.\n",
        "\n",
        "# depth = [12,18]\n",
        "# nEstimator = [140]\n",
        "\n",
        "# hyperparameters = {'max_depth':depth,'n_estimators':nEstimator}\n",
        "\n",
        "# GS_object = GridSearchCV(RandomForestRegressor(),param_grid=hyperparameters,scoring='neg_mean_squared_error')\n",
        "\n",
        "# GS_object.fit(x_train,y_train)"
      ],
      "execution_count": null,
      "outputs": []
    },
    {
      "cell_type": "code",
      "metadata": {
        "id": "NTnithQal-2P"
      },
      "source": [
        "# best_hyperparameters = {'max_depth':GS_object.best_params_.get('max_depth'),'n_estimators':nEstimator}\n",
        "# best_max_depth = GS_object.best_params_.get('max_depth')"
      ],
      "execution_count": null,
      "outputs": []
    },
    {
      "cell_type": "markdown",
      "metadata": {
        "id": "IxqZuVvjZN9T"
      },
      "source": [
        "**Model 4: Random Forest**"
      ]
    },
    {
      "cell_type": "code",
      "metadata": {
        "id": "Lc5FolOAmMgm",
        "colab": {
          "base_uri": "https://localhost:8080/",
          "height": 486
        },
        "outputId": "a1a5c755-edc3-4b50-fdca-f08e42f0a0af"
      },
      "source": [
        "from sklearn.ensemble import RandomForestRegressor\n",
        "RF_object = RandomForestRegressor(max_depth=7)\n",
        "fit_pred = RF_object.fit(x_train,y_train)\n",
        "y_pred_RF = fit_pred.predict(x_test)\n",
        "\n",
        "print(\"RF Score:\", RF_object.score(x_test, y_test))\n",
        "print(\"RF MAE:\", mean_absolute_error(y_test, y_pred_RF))\n",
        "print('RF MSE:', mean_squared_error(y_test, y_pred_RF))\n",
        "print('RF RMSE:', np.sqrt(mean_squared_error(y_test, y_pred_RF)))"
      ],
      "execution_count": null,
      "outputs": [
        {
          "output_type": "stream",
          "text": [
            "/usr/local/lib/python3.7/dist-packages/ipykernel_launcher.py:3: DataConversionWarning:\n",
            "\n",
            "A column-vector y was passed when a 1d array was expected. Please change the shape of y to (n_samples,), for example using ravel().\n",
            "\n"
          ],
          "name": "stderr"
        },
        {
          "output_type": "error",
          "ename": "KeyboardInterrupt",
          "evalue": "ignored",
          "traceback": [
            "\u001b[0;31m---------------------------------------------------------------------------\u001b[0m",
            "\u001b[0;31mKeyboardInterrupt\u001b[0m                         Traceback (most recent call last)",
            "\u001b[0;32m<ipython-input-23-e9165d5665a9>\u001b[0m in \u001b[0;36m<module>\u001b[0;34m()\u001b[0m\n\u001b[1;32m      1\u001b[0m \u001b[0;32mfrom\u001b[0m \u001b[0msklearn\u001b[0m\u001b[0;34m.\u001b[0m\u001b[0mensemble\u001b[0m \u001b[0;32mimport\u001b[0m \u001b[0mRandomForestRegressor\u001b[0m\u001b[0;34m\u001b[0m\u001b[0;34m\u001b[0m\u001b[0m\n\u001b[1;32m      2\u001b[0m \u001b[0mRF_object\u001b[0m \u001b[0;34m=\u001b[0m \u001b[0mRandomForestRegressor\u001b[0m\u001b[0;34m(\u001b[0m\u001b[0mn_estimators\u001b[0m\u001b[0;34m=\u001b[0m\u001b[0;36m1000\u001b[0m\u001b[0;34m)\u001b[0m\u001b[0;34m\u001b[0m\u001b[0;34m\u001b[0m\u001b[0m\n\u001b[0;32m----> 3\u001b[0;31m \u001b[0mfit_pred\u001b[0m \u001b[0;34m=\u001b[0m \u001b[0mRF_object\u001b[0m\u001b[0;34m.\u001b[0m\u001b[0mfit\u001b[0m\u001b[0;34m(\u001b[0m\u001b[0mx_train\u001b[0m\u001b[0;34m,\u001b[0m\u001b[0my_train\u001b[0m\u001b[0;34m)\u001b[0m\u001b[0;34m\u001b[0m\u001b[0;34m\u001b[0m\u001b[0m\n\u001b[0m\u001b[1;32m      4\u001b[0m \u001b[0my_pred_RF\u001b[0m \u001b[0;34m=\u001b[0m \u001b[0mfit_pred\u001b[0m\u001b[0;34m.\u001b[0m\u001b[0mpredict\u001b[0m\u001b[0;34m(\u001b[0m\u001b[0mx_test\u001b[0m\u001b[0;34m)\u001b[0m\u001b[0;34m\u001b[0m\u001b[0;34m\u001b[0m\u001b[0m\n\u001b[1;32m      5\u001b[0m \u001b[0;34m\u001b[0m\u001b[0m\n",
            "\u001b[0;32m/usr/local/lib/python3.7/dist-packages/sklearn/ensemble/_forest.py\u001b[0m in \u001b[0;36mfit\u001b[0;34m(self, X, y, sample_weight)\u001b[0m\n\u001b[1;32m    381\u001b[0m                     \u001b[0mverbose\u001b[0m\u001b[0;34m=\u001b[0m\u001b[0mself\u001b[0m\u001b[0;34m.\u001b[0m\u001b[0mverbose\u001b[0m\u001b[0;34m,\u001b[0m \u001b[0mclass_weight\u001b[0m\u001b[0;34m=\u001b[0m\u001b[0mself\u001b[0m\u001b[0;34m.\u001b[0m\u001b[0mclass_weight\u001b[0m\u001b[0;34m,\u001b[0m\u001b[0;34m\u001b[0m\u001b[0;34m\u001b[0m\u001b[0m\n\u001b[1;32m    382\u001b[0m                     n_samples_bootstrap=n_samples_bootstrap)\n\u001b[0;32m--> 383\u001b[0;31m                 for i, t in enumerate(trees))\n\u001b[0m\u001b[1;32m    384\u001b[0m \u001b[0;34m\u001b[0m\u001b[0m\n\u001b[1;32m    385\u001b[0m             \u001b[0;31m# Collect newly grown trees\u001b[0m\u001b[0;34m\u001b[0m\u001b[0;34m\u001b[0m\u001b[0;34m\u001b[0m\u001b[0m\n",
            "\u001b[0;32m/usr/local/lib/python3.7/dist-packages/joblib/parallel.py\u001b[0m in \u001b[0;36m__call__\u001b[0;34m(self, iterable)\u001b[0m\n\u001b[1;32m   1042\u001b[0m                 \u001b[0mself\u001b[0m\u001b[0;34m.\u001b[0m\u001b[0m_iterating\u001b[0m \u001b[0;34m=\u001b[0m \u001b[0mself\u001b[0m\u001b[0;34m.\u001b[0m\u001b[0m_original_iterator\u001b[0m \u001b[0;32mis\u001b[0m \u001b[0;32mnot\u001b[0m \u001b[0;32mNone\u001b[0m\u001b[0;34m\u001b[0m\u001b[0;34m\u001b[0m\u001b[0m\n\u001b[1;32m   1043\u001b[0m \u001b[0;34m\u001b[0m\u001b[0m\n\u001b[0;32m-> 1044\u001b[0;31m             \u001b[0;32mwhile\u001b[0m \u001b[0mself\u001b[0m\u001b[0;34m.\u001b[0m\u001b[0mdispatch_one_batch\u001b[0m\u001b[0;34m(\u001b[0m\u001b[0miterator\u001b[0m\u001b[0;34m)\u001b[0m\u001b[0;34m:\u001b[0m\u001b[0;34m\u001b[0m\u001b[0;34m\u001b[0m\u001b[0m\n\u001b[0m\u001b[1;32m   1045\u001b[0m                 \u001b[0;32mpass\u001b[0m\u001b[0;34m\u001b[0m\u001b[0;34m\u001b[0m\u001b[0m\n\u001b[1;32m   1046\u001b[0m \u001b[0;34m\u001b[0m\u001b[0m\n",
            "\u001b[0;32m/usr/local/lib/python3.7/dist-packages/joblib/parallel.py\u001b[0m in \u001b[0;36mdispatch_one_batch\u001b[0;34m(self, iterator)\u001b[0m\n\u001b[1;32m    857\u001b[0m                 \u001b[0;32mreturn\u001b[0m \u001b[0;32mFalse\u001b[0m\u001b[0;34m\u001b[0m\u001b[0;34m\u001b[0m\u001b[0m\n\u001b[1;32m    858\u001b[0m             \u001b[0;32melse\u001b[0m\u001b[0;34m:\u001b[0m\u001b[0;34m\u001b[0m\u001b[0;34m\u001b[0m\u001b[0m\n\u001b[0;32m--> 859\u001b[0;31m                 \u001b[0mself\u001b[0m\u001b[0;34m.\u001b[0m\u001b[0m_dispatch\u001b[0m\u001b[0;34m(\u001b[0m\u001b[0mtasks\u001b[0m\u001b[0;34m)\u001b[0m\u001b[0;34m\u001b[0m\u001b[0;34m\u001b[0m\u001b[0m\n\u001b[0m\u001b[1;32m    860\u001b[0m                 \u001b[0;32mreturn\u001b[0m \u001b[0;32mTrue\u001b[0m\u001b[0;34m\u001b[0m\u001b[0;34m\u001b[0m\u001b[0m\n\u001b[1;32m    861\u001b[0m \u001b[0;34m\u001b[0m\u001b[0m\n",
            "\u001b[0;32m/usr/local/lib/python3.7/dist-packages/joblib/parallel.py\u001b[0m in \u001b[0;36m_dispatch\u001b[0;34m(self, batch)\u001b[0m\n\u001b[1;32m    775\u001b[0m         \u001b[0;32mwith\u001b[0m \u001b[0mself\u001b[0m\u001b[0;34m.\u001b[0m\u001b[0m_lock\u001b[0m\u001b[0;34m:\u001b[0m\u001b[0;34m\u001b[0m\u001b[0;34m\u001b[0m\u001b[0m\n\u001b[1;32m    776\u001b[0m             \u001b[0mjob_idx\u001b[0m \u001b[0;34m=\u001b[0m \u001b[0mlen\u001b[0m\u001b[0;34m(\u001b[0m\u001b[0mself\u001b[0m\u001b[0;34m.\u001b[0m\u001b[0m_jobs\u001b[0m\u001b[0;34m)\u001b[0m\u001b[0;34m\u001b[0m\u001b[0;34m\u001b[0m\u001b[0m\n\u001b[0;32m--> 777\u001b[0;31m             \u001b[0mjob\u001b[0m \u001b[0;34m=\u001b[0m \u001b[0mself\u001b[0m\u001b[0;34m.\u001b[0m\u001b[0m_backend\u001b[0m\u001b[0;34m.\u001b[0m\u001b[0mapply_async\u001b[0m\u001b[0;34m(\u001b[0m\u001b[0mbatch\u001b[0m\u001b[0;34m,\u001b[0m \u001b[0mcallback\u001b[0m\u001b[0;34m=\u001b[0m\u001b[0mcb\u001b[0m\u001b[0;34m)\u001b[0m\u001b[0;34m\u001b[0m\u001b[0;34m\u001b[0m\u001b[0m\n\u001b[0m\u001b[1;32m    778\u001b[0m             \u001b[0;31m# A job can complete so quickly than its callback is\u001b[0m\u001b[0;34m\u001b[0m\u001b[0;34m\u001b[0m\u001b[0;34m\u001b[0m\u001b[0m\n\u001b[1;32m    779\u001b[0m             \u001b[0;31m# called before we get here, causing self._jobs to\u001b[0m\u001b[0;34m\u001b[0m\u001b[0;34m\u001b[0m\u001b[0;34m\u001b[0m\u001b[0m\n",
            "\u001b[0;32m/usr/local/lib/python3.7/dist-packages/joblib/_parallel_backends.py\u001b[0m in \u001b[0;36mapply_async\u001b[0;34m(self, func, callback)\u001b[0m\n\u001b[1;32m    206\u001b[0m     \u001b[0;32mdef\u001b[0m \u001b[0mapply_async\u001b[0m\u001b[0;34m(\u001b[0m\u001b[0mself\u001b[0m\u001b[0;34m,\u001b[0m \u001b[0mfunc\u001b[0m\u001b[0;34m,\u001b[0m \u001b[0mcallback\u001b[0m\u001b[0;34m=\u001b[0m\u001b[0;32mNone\u001b[0m\u001b[0;34m)\u001b[0m\u001b[0;34m:\u001b[0m\u001b[0;34m\u001b[0m\u001b[0;34m\u001b[0m\u001b[0m\n\u001b[1;32m    207\u001b[0m         \u001b[0;34m\"\"\"Schedule a func to be run\"\"\"\u001b[0m\u001b[0;34m\u001b[0m\u001b[0;34m\u001b[0m\u001b[0m\n\u001b[0;32m--> 208\u001b[0;31m         \u001b[0mresult\u001b[0m \u001b[0;34m=\u001b[0m \u001b[0mImmediateResult\u001b[0m\u001b[0;34m(\u001b[0m\u001b[0mfunc\u001b[0m\u001b[0;34m)\u001b[0m\u001b[0;34m\u001b[0m\u001b[0;34m\u001b[0m\u001b[0m\n\u001b[0m\u001b[1;32m    209\u001b[0m         \u001b[0;32mif\u001b[0m \u001b[0mcallback\u001b[0m\u001b[0;34m:\u001b[0m\u001b[0;34m\u001b[0m\u001b[0;34m\u001b[0m\u001b[0m\n\u001b[1;32m    210\u001b[0m             \u001b[0mcallback\u001b[0m\u001b[0;34m(\u001b[0m\u001b[0mresult\u001b[0m\u001b[0;34m)\u001b[0m\u001b[0;34m\u001b[0m\u001b[0;34m\u001b[0m\u001b[0m\n",
            "\u001b[0;32m/usr/local/lib/python3.7/dist-packages/joblib/_parallel_backends.py\u001b[0m in \u001b[0;36m__init__\u001b[0;34m(self, batch)\u001b[0m\n\u001b[1;32m    570\u001b[0m         \u001b[0;31m# Don't delay the application, to avoid keeping the input\u001b[0m\u001b[0;34m\u001b[0m\u001b[0;34m\u001b[0m\u001b[0;34m\u001b[0m\u001b[0m\n\u001b[1;32m    571\u001b[0m         \u001b[0;31m# arguments in memory\u001b[0m\u001b[0;34m\u001b[0m\u001b[0;34m\u001b[0m\u001b[0;34m\u001b[0m\u001b[0m\n\u001b[0;32m--> 572\u001b[0;31m         \u001b[0mself\u001b[0m\u001b[0;34m.\u001b[0m\u001b[0mresults\u001b[0m \u001b[0;34m=\u001b[0m \u001b[0mbatch\u001b[0m\u001b[0;34m(\u001b[0m\u001b[0;34m)\u001b[0m\u001b[0;34m\u001b[0m\u001b[0;34m\u001b[0m\u001b[0m\n\u001b[0m\u001b[1;32m    573\u001b[0m \u001b[0;34m\u001b[0m\u001b[0m\n\u001b[1;32m    574\u001b[0m     \u001b[0;32mdef\u001b[0m \u001b[0mget\u001b[0m\u001b[0;34m(\u001b[0m\u001b[0mself\u001b[0m\u001b[0;34m)\u001b[0m\u001b[0;34m:\u001b[0m\u001b[0;34m\u001b[0m\u001b[0;34m\u001b[0m\u001b[0m\n",
            "\u001b[0;32m/usr/local/lib/python3.7/dist-packages/joblib/parallel.py\u001b[0m in \u001b[0;36m__call__\u001b[0;34m(self)\u001b[0m\n\u001b[1;32m    261\u001b[0m         \u001b[0;32mwith\u001b[0m \u001b[0mparallel_backend\u001b[0m\u001b[0;34m(\u001b[0m\u001b[0mself\u001b[0m\u001b[0;34m.\u001b[0m\u001b[0m_backend\u001b[0m\u001b[0;34m,\u001b[0m \u001b[0mn_jobs\u001b[0m\u001b[0;34m=\u001b[0m\u001b[0mself\u001b[0m\u001b[0;34m.\u001b[0m\u001b[0m_n_jobs\u001b[0m\u001b[0;34m)\u001b[0m\u001b[0;34m:\u001b[0m\u001b[0;34m\u001b[0m\u001b[0;34m\u001b[0m\u001b[0m\n\u001b[1;32m    262\u001b[0m             return [func(*args, **kwargs)\n\u001b[0;32m--> 263\u001b[0;31m                     for func, args, kwargs in self.items]\n\u001b[0m\u001b[1;32m    264\u001b[0m \u001b[0;34m\u001b[0m\u001b[0m\n\u001b[1;32m    265\u001b[0m     \u001b[0;32mdef\u001b[0m \u001b[0m__reduce__\u001b[0m\u001b[0;34m(\u001b[0m\u001b[0mself\u001b[0m\u001b[0;34m)\u001b[0m\u001b[0;34m:\u001b[0m\u001b[0;34m\u001b[0m\u001b[0;34m\u001b[0m\u001b[0m\n",
            "\u001b[0;32m/usr/local/lib/python3.7/dist-packages/joblib/parallel.py\u001b[0m in \u001b[0;36m<listcomp>\u001b[0;34m(.0)\u001b[0m\n\u001b[1;32m    261\u001b[0m         \u001b[0;32mwith\u001b[0m \u001b[0mparallel_backend\u001b[0m\u001b[0;34m(\u001b[0m\u001b[0mself\u001b[0m\u001b[0;34m.\u001b[0m\u001b[0m_backend\u001b[0m\u001b[0;34m,\u001b[0m \u001b[0mn_jobs\u001b[0m\u001b[0;34m=\u001b[0m\u001b[0mself\u001b[0m\u001b[0;34m.\u001b[0m\u001b[0m_n_jobs\u001b[0m\u001b[0;34m)\u001b[0m\u001b[0;34m:\u001b[0m\u001b[0;34m\u001b[0m\u001b[0;34m\u001b[0m\u001b[0m\n\u001b[1;32m    262\u001b[0m             return [func(*args, **kwargs)\n\u001b[0;32m--> 263\u001b[0;31m                     for func, args, kwargs in self.items]\n\u001b[0m\u001b[1;32m    264\u001b[0m \u001b[0;34m\u001b[0m\u001b[0m\n\u001b[1;32m    265\u001b[0m     \u001b[0;32mdef\u001b[0m \u001b[0m__reduce__\u001b[0m\u001b[0;34m(\u001b[0m\u001b[0mself\u001b[0m\u001b[0;34m)\u001b[0m\u001b[0;34m:\u001b[0m\u001b[0;34m\u001b[0m\u001b[0;34m\u001b[0m\u001b[0m\n",
            "\u001b[0;32m/usr/local/lib/python3.7/dist-packages/sklearn/ensemble/_forest.py\u001b[0m in \u001b[0;36m_parallel_build_trees\u001b[0;34m(tree, forest, X, y, sample_weight, tree_idx, n_trees, verbose, class_weight, n_samples_bootstrap)\u001b[0m\n\u001b[1;32m    163\u001b[0m             \u001b[0mcurr_sample_weight\u001b[0m \u001b[0;34m*=\u001b[0m \u001b[0mcompute_sample_weight\u001b[0m\u001b[0;34m(\u001b[0m\u001b[0;34m'balanced'\u001b[0m\u001b[0;34m,\u001b[0m \u001b[0my\u001b[0m\u001b[0;34m,\u001b[0m \u001b[0mindices\u001b[0m\u001b[0;34m)\u001b[0m\u001b[0;34m\u001b[0m\u001b[0;34m\u001b[0m\u001b[0m\n\u001b[1;32m    164\u001b[0m \u001b[0;34m\u001b[0m\u001b[0m\n\u001b[0;32m--> 165\u001b[0;31m         \u001b[0mtree\u001b[0m\u001b[0;34m.\u001b[0m\u001b[0mfit\u001b[0m\u001b[0;34m(\u001b[0m\u001b[0mX\u001b[0m\u001b[0;34m,\u001b[0m \u001b[0my\u001b[0m\u001b[0;34m,\u001b[0m \u001b[0msample_weight\u001b[0m\u001b[0;34m=\u001b[0m\u001b[0mcurr_sample_weight\u001b[0m\u001b[0;34m,\u001b[0m \u001b[0mcheck_input\u001b[0m\u001b[0;34m=\u001b[0m\u001b[0;32mFalse\u001b[0m\u001b[0;34m)\u001b[0m\u001b[0;34m\u001b[0m\u001b[0;34m\u001b[0m\u001b[0m\n\u001b[0m\u001b[1;32m    166\u001b[0m     \u001b[0;32melse\u001b[0m\u001b[0;34m:\u001b[0m\u001b[0;34m\u001b[0m\u001b[0;34m\u001b[0m\u001b[0m\n\u001b[1;32m    167\u001b[0m         \u001b[0mtree\u001b[0m\u001b[0;34m.\u001b[0m\u001b[0mfit\u001b[0m\u001b[0;34m(\u001b[0m\u001b[0mX\u001b[0m\u001b[0;34m,\u001b[0m \u001b[0my\u001b[0m\u001b[0;34m,\u001b[0m \u001b[0msample_weight\u001b[0m\u001b[0;34m=\u001b[0m\u001b[0msample_weight\u001b[0m\u001b[0;34m,\u001b[0m \u001b[0mcheck_input\u001b[0m\u001b[0;34m=\u001b[0m\u001b[0;32mFalse\u001b[0m\u001b[0;34m)\u001b[0m\u001b[0;34m\u001b[0m\u001b[0;34m\u001b[0m\u001b[0m\n",
            "\u001b[0;32m/usr/local/lib/python3.7/dist-packages/sklearn/tree/_classes.py\u001b[0m in \u001b[0;36mfit\u001b[0;34m(self, X, y, sample_weight, check_input, X_idx_sorted)\u001b[0m\n\u001b[1;32m   1223\u001b[0m             \u001b[0msample_weight\u001b[0m\u001b[0;34m=\u001b[0m\u001b[0msample_weight\u001b[0m\u001b[0;34m,\u001b[0m\u001b[0;34m\u001b[0m\u001b[0;34m\u001b[0m\u001b[0m\n\u001b[1;32m   1224\u001b[0m             \u001b[0mcheck_input\u001b[0m\u001b[0;34m=\u001b[0m\u001b[0mcheck_input\u001b[0m\u001b[0;34m,\u001b[0m\u001b[0;34m\u001b[0m\u001b[0;34m\u001b[0m\u001b[0m\n\u001b[0;32m-> 1225\u001b[0;31m             X_idx_sorted=X_idx_sorted)\n\u001b[0m\u001b[1;32m   1226\u001b[0m         \u001b[0;32mreturn\u001b[0m \u001b[0mself\u001b[0m\u001b[0;34m\u001b[0m\u001b[0;34m\u001b[0m\u001b[0m\n\u001b[1;32m   1227\u001b[0m \u001b[0;34m\u001b[0m\u001b[0m\n",
            "\u001b[0;32m/usr/local/lib/python3.7/dist-packages/sklearn/tree/_classes.py\u001b[0m in \u001b[0;36mfit\u001b[0;34m(self, X, y, sample_weight, check_input, X_idx_sorted)\u001b[0m\n\u001b[1;32m    365\u001b[0m                                            min_impurity_split)\n\u001b[1;32m    366\u001b[0m \u001b[0;34m\u001b[0m\u001b[0m\n\u001b[0;32m--> 367\u001b[0;31m         \u001b[0mbuilder\u001b[0m\u001b[0;34m.\u001b[0m\u001b[0mbuild\u001b[0m\u001b[0;34m(\u001b[0m\u001b[0mself\u001b[0m\u001b[0;34m.\u001b[0m\u001b[0mtree_\u001b[0m\u001b[0;34m,\u001b[0m \u001b[0mX\u001b[0m\u001b[0;34m,\u001b[0m \u001b[0my\u001b[0m\u001b[0;34m,\u001b[0m \u001b[0msample_weight\u001b[0m\u001b[0;34m,\u001b[0m \u001b[0mX_idx_sorted\u001b[0m\u001b[0;34m)\u001b[0m\u001b[0;34m\u001b[0m\u001b[0;34m\u001b[0m\u001b[0m\n\u001b[0m\u001b[1;32m    368\u001b[0m \u001b[0;34m\u001b[0m\u001b[0m\n\u001b[1;32m    369\u001b[0m         \u001b[0;32mif\u001b[0m \u001b[0mself\u001b[0m\u001b[0;34m.\u001b[0m\u001b[0mn_outputs_\u001b[0m \u001b[0;34m==\u001b[0m \u001b[0;36m1\u001b[0m \u001b[0;32mand\u001b[0m \u001b[0mis_classifier\u001b[0m\u001b[0;34m(\u001b[0m\u001b[0mself\u001b[0m\u001b[0;34m)\u001b[0m\u001b[0;34m:\u001b[0m\u001b[0;34m\u001b[0m\u001b[0;34m\u001b[0m\u001b[0m\n",
            "\u001b[0;31mKeyboardInterrupt\u001b[0m: "
          ]
        }
      ]
    }
  ]
}